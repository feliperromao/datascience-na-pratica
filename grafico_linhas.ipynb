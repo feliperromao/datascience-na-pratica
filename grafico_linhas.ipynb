{
  "nbformat": 4,
  "nbformat_minor": 0,
  "metadata": {
    "colab": {
      "name": "grafico-linhas",
      "provenance": [],
      "authorship_tag": "ABX9TyPpQq+d+T2KQtdQcg8aoGin",
      "include_colab_link": true
    },
    "kernelspec": {
      "name": "python3",
      "display_name": "Python 3"
    },
    "language_info": {
      "name": "python"
    }
  },
  "cells": [
    {
      "cell_type": "markdown",
      "metadata": {
        "id": "view-in-github",
        "colab_type": "text"
      },
      "source": [
        "<a href=\"https://colab.research.google.com/github/feliperromao/datascience-na-pratica/blob/main/grafico_linhas.ipynb\" target=\"_parent\"><img src=\"https://colab.research.google.com/assets/colab-badge.svg\" alt=\"Open In Colab\"/></a>"
      ]
    },
    {
      "cell_type": "code",
      "metadata": {
        "id": "qM7gSVOIKCeE"
      },
      "source": [
        "import pandas as pd\n",
        "import matplotlib.pyplot as plt"
      ],
      "execution_count": null,
      "outputs": []
    },
    {
      "cell_type": "code",
      "metadata": {
        "colab": {
          "base_uri": "https://localhost:8080/",
          "height": 226
        },
        "id": "BGVsV0KkKIsQ",
        "outputId": "7830f083-3c14-4df1-ced4-caf0f28e60a7"
      },
      "source": [
        "url = \"https://raw.githubusercontent.com/carlosfab/dsnp2/master/datasets/dengue-dataset.csv\"\n",
        "\n",
        "df = pd.read_csv(url, index_col=\"data\", parse_dates=True)\n",
        "\n",
        "df.head()"
      ],
      "execution_count": null,
      "outputs": [
        {
          "output_type": "execute_result",
          "data": {
            "text/html": [
              "<div>\n",
              "<style scoped>\n",
              "    .dataframe tbody tr th:only-of-type {\n",
              "        vertical-align: middle;\n",
              "    }\n",
              "\n",
              "    .dataframe tbody tr th {\n",
              "        vertical-align: top;\n",
              "    }\n",
              "\n",
              "    .dataframe thead th {\n",
              "        text-align: right;\n",
              "    }\n",
              "</style>\n",
              "<table border=\"1\" class=\"dataframe\">\n",
              "  <thead>\n",
              "    <tr style=\"text-align: right;\">\n",
              "      <th></th>\n",
              "      <th>casos-confirmados</th>\n",
              "      <th>chuva</th>\n",
              "      <th>temperatura-media</th>\n",
              "      <th>temperatura-mininima</th>\n",
              "      <th>temperatura-maxima</th>\n",
              "    </tr>\n",
              "    <tr>\n",
              "      <th>data</th>\n",
              "      <th></th>\n",
              "      <th></th>\n",
              "      <th></th>\n",
              "      <th></th>\n",
              "      <th></th>\n",
              "    </tr>\n",
              "  </thead>\n",
              "  <tbody>\n",
              "    <tr>\n",
              "      <th>1998-01-01</th>\n",
              "      <td>237</td>\n",
              "      <td>179.2</td>\n",
              "      <td>25.7</td>\n",
              "      <td>20.2</td>\n",
              "      <td>28.1</td>\n",
              "    </tr>\n",
              "    <tr>\n",
              "      <th>1998-02-01</th>\n",
              "      <td>331</td>\n",
              "      <td>226.3</td>\n",
              "      <td>25.1</td>\n",
              "      <td>20.0</td>\n",
              "      <td>28.0</td>\n",
              "    </tr>\n",
              "    <tr>\n",
              "      <th>1998-03-01</th>\n",
              "      <td>562</td>\n",
              "      <td>149.1</td>\n",
              "      <td>24.8</td>\n",
              "      <td>22.4</td>\n",
              "      <td>27.2</td>\n",
              "    </tr>\n",
              "    <tr>\n",
              "      <th>1998-04-01</th>\n",
              "      <td>187</td>\n",
              "      <td>46.4</td>\n",
              "      <td>22.7</td>\n",
              "      <td>18.1</td>\n",
              "      <td>26.0</td>\n",
              "    </tr>\n",
              "    <tr>\n",
              "      <th>1998-05-01</th>\n",
              "      <td>32</td>\n",
              "      <td>88.3</td>\n",
              "      <td>19.2</td>\n",
              "      <td>15.7</td>\n",
              "      <td>22.9</td>\n",
              "    </tr>\n",
              "  </tbody>\n",
              "</table>\n",
              "</div>"
            ],
            "text/plain": [
              "            casos-confirmados  chuva  ...  temperatura-mininima  temperatura-maxima\n",
              "data                                  ...                                          \n",
              "1998-01-01                237  179.2  ...                  20.2                28.1\n",
              "1998-02-01                331  226.3  ...                  20.0                28.0\n",
              "1998-03-01                562  149.1  ...                  22.4                27.2\n",
              "1998-04-01                187   46.4  ...                  18.1                26.0\n",
              "1998-05-01                 32   88.3  ...                  15.7                22.9\n",
              "\n",
              "[5 rows x 5 columns]"
            ]
          },
          "metadata": {
            "tags": []
          },
          "execution_count": 16
        }
      ]
    },
    {
      "cell_type": "code",
      "metadata": {
        "colab": {
          "base_uri": "https://localhost:8080/",
          "height": 297
        },
        "id": "FSZsQaKiKcxe",
        "outputId": "af7449db-13d4-4a0b-ddf9-4d214e116926"
      },
      "source": [
        "fig, ax = plt.subplots()\n",
        "\n",
        "df[\"casos-confirmados\"].plot(kind=\"line\", ax=ax)\n",
        "\n",
        "ax.set_title(\"Dengue em campinas\")\n",
        "ax.set_xlabel(\"Data\")\n",
        "ax.set_ylabel(\"Casos confirmados\")\n",
        "\n",
        "plt.tight_layout();"
      ],
      "execution_count": null,
      "outputs": [
        {
          "output_type": "display_data",
          "data": {
            "image/png": "[encoded data removed]",
            "text/plain": [
              "<Figure size 432x288 with 1 Axes>"
            ]
          },
          "metadata": {
            "tags": [],
            "needs_background": "light"
          }
        }
      ]
    },
    {
      "cell_type": "code",
      "metadata": {
        "id": "6Fidpp69Ks1Z"
      },
      "source": [
        ""
      ],
      "execution_count": null,
      "outputs": []
    }
  ]
}