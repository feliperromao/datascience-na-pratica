{
  "nbformat": 4,
  "nbformat_minor": 0,
  "metadata": {
    "colab": {
      "name": "Análise de dados Airbnb - Rio de Janeiro",
      "provenance": [],
      "collapsed_sections": [],
      "authorship_tag": "ABX9TyMk2NJt18Y1St2ZaRUY8GDH",
      "include_colab_link": true
    },
    "kernelspec": {
      "name": "python3",
      "display_name": "Python 3"
    },
    "language_info": {
      "name": "python"
    }
  },
  "cells": [
    {
      "cell_type": "markdown",
      "metadata": {
        "id": "view-in-github",
        "colab_type": "text"
      },
      "source": [
        "<a href=\"https://colab.research.google.com/github/feliperromao/datascience-na-pratica/blob/main/An%C3%A1lise_de_dados_Airbnb_Rio_de_Janeiro.ipynb\" target=\"_parent\"><img src=\"https://colab.research.google.com/assets/colab-badge.svg\" alt=\"Open In Colab\"/></a>"
      ]
    },
    {
      "cell_type": "code",
      "metadata": {
        "id": "-_a0YfOzLbQK"
      },
      "source": [
        "import pandas as pd\n",
        "import matplotlib.pyplot as plt\n",
        "import seaborn as sns"
      ],
      "execution_count": 1,
      "outputs": []
    },
    {
      "cell_type": "code",
      "metadata": {
        "id": "pm9VyF77N7pI"
      },
      "source": [
        "df = pd.read_csv(\"http://data.insideairbnb.com/the-netherlands/north-holland/amsterdam/2021-04-09/visualisations/listings.csv\")"
      ],
      "execution_count": 2,
      "outputs": []
    },
    {
      "cell_type": "code",
      "metadata": {
        "colab": {
          "base_uri": "https://localhost:8080/",
          "height": 501
        },
        "id": "PUO7sHoeOmV7",
        "outputId": "6b3e7795-9844-498a-bf8d-dbeef047059a"
      },
      "source": [
        "df.head()"
      ],
      "execution_count": 3,
      "outputs": [
        {
          "output_type": "execute_result",
          "data": {
            "text/html": [
              "<div>\n",
              "<style scoped>\n",
              "    .dataframe tbody tr th:only-of-type {\n",
              "        vertical-align: middle;\n",
              "    }\n",
              "\n",
              "    .dataframe tbody tr th {\n",
              "        vertical-align: top;\n",
              "    }\n",
              "\n",
              "    .dataframe thead th {\n",
              "        text-align: right;\n",
              "    }\n",
              "</style>\n",
              "<table border=\"1\" class=\"dataframe\">\n",
              "  <thead>\n",
              "    <tr style=\"text-align: right;\">\n",
              "      <th></th>\n",
              "      <th>id</th>\n",
              "      <th>name</th>\n",
              "      <th>host_id</th>\n",
              "      <th>host_name</th>\n",
              "      <th>neighbourhood_group</th>\n",
              "      <th>neighbourhood</th>\n",
              "      <th>latitude</th>\n",
              "      <th>longitude</th>\n",
              "      <th>room_type</th>\n",
              "      <th>price</th>\n",
              "      <th>minimum_nights</th>\n",
              "      <th>number_of_reviews</th>\n",
              "      <th>last_review</th>\n",
              "      <th>reviews_per_month</th>\n",
              "      <th>calculated_host_listings_count</th>\n",
              "      <th>availability_365</th>\n",
              "    </tr>\n",
              "  </thead>\n",
              "  <tbody>\n",
              "    <tr>\n",
              "      <th>0</th>\n",
              "      <td>2818</td>\n",
              "      <td>Quiet Garden View Room &amp; Super Fast WiFi</td>\n",
              "      <td>3159</td>\n",
              "      <td>Daniel</td>\n",
              "      <td>NaN</td>\n",
              "      <td>Oostelijk Havengebied - Indische Buurt</td>\n",
              "      <td>52.36435</td>\n",
              "      <td>4.94358</td>\n",
              "      <td>Private room</td>\n",
              "      <td>59</td>\n",
              "      <td>3</td>\n",
              "      <td>278</td>\n",
              "      <td>2020-02-14</td>\n",
              "      <td>1.90</td>\n",
              "      <td>1</td>\n",
              "      <td>152</td>\n",
              "    </tr>\n",
              "    <tr>\n",
              "      <th>1</th>\n",
              "      <td>20168</td>\n",
              "      <td>Studio with private bathroom in the centre 1</td>\n",
              "      <td>59484</td>\n",
              "      <td>Alexander</td>\n",
              "      <td>NaN</td>\n",
              "      <td>Centrum-Oost</td>\n",
              "      <td>52.36407</td>\n",
              "      <td>4.89393</td>\n",
              "      <td>Private room</td>\n",
              "      <td>200</td>\n",
              "      <td>1</td>\n",
              "      <td>339</td>\n",
              "      <td>2020-04-09</td>\n",
              "      <td>2.50</td>\n",
              "      <td>2</td>\n",
              "      <td>0</td>\n",
              "    </tr>\n",
              "    <tr>\n",
              "      <th>2</th>\n",
              "      <td>25428</td>\n",
              "      <td>Lovely, 1 bed apt in Ctr (w.lift) -3/20-6/20(f...</td>\n",
              "      <td>56142</td>\n",
              "      <td>Joan</td>\n",
              "      <td>NaN</td>\n",
              "      <td>Centrum-West</td>\n",
              "      <td>52.37490</td>\n",
              "      <td>4.88487</td>\n",
              "      <td>Entire home/apt</td>\n",
              "      <td>125</td>\n",
              "      <td>14</td>\n",
              "      <td>5</td>\n",
              "      <td>2020-02-09</td>\n",
              "      <td>0.13</td>\n",
              "      <td>2</td>\n",
              "      <td>132</td>\n",
              "    </tr>\n",
              "    <tr>\n",
              "      <th>3</th>\n",
              "      <td>27886</td>\n",
              "      <td>Romantic, stylish B&amp;B houseboat in canal district</td>\n",
              "      <td>97647</td>\n",
              "      <td>Flip</td>\n",
              "      <td>NaN</td>\n",
              "      <td>Centrum-West</td>\n",
              "      <td>52.38761</td>\n",
              "      <td>4.89188</td>\n",
              "      <td>Private room</td>\n",
              "      <td>141</td>\n",
              "      <td>2</td>\n",
              "      <td>219</td>\n",
              "      <td>2020-07-25</td>\n",
              "      <td>1.94</td>\n",
              "      <td>1</td>\n",
              "      <td>66</td>\n",
              "    </tr>\n",
              "    <tr>\n",
              "      <th>4</th>\n",
              "      <td>28871</td>\n",
              "      <td>Comfortable double room</td>\n",
              "      <td>124245</td>\n",
              "      <td>Edwin</td>\n",
              "      <td>NaN</td>\n",
              "      <td>Centrum-West</td>\n",
              "      <td>52.36775</td>\n",
              "      <td>4.89092</td>\n",
              "      <td>Private room</td>\n",
              "      <td>75</td>\n",
              "      <td>2</td>\n",
              "      <td>336</td>\n",
              "      <td>2020-09-20</td>\n",
              "      <td>2.59</td>\n",
              "      <td>2</td>\n",
              "      <td>335</td>\n",
              "    </tr>\n",
              "  </tbody>\n",
              "</table>\n",
              "</div>"
            ],
            "text/plain": [
              "      id  ... availability_365\n",
              "0   2818  ...              152\n",
              "1  20168  ...                0\n",
              "2  25428  ...              132\n",
              "3  27886  ...               66\n",
              "4  28871  ...              335\n",
              "\n",
              "[5 rows x 16 columns]"
            ]
          },
          "metadata": {
            "tags": []
          },
          "execution_count": 3
        }
      ]
    },
    {
      "cell_type": "code",
      "metadata": {
        "colab": {
          "base_uri": "https://localhost:8080/"
        },
        "id": "iW2xRjqTUQuN",
        "outputId": "96829aaa-71c9-4240-cdef-24aaa3b04b0d"
      },
      "source": [
        "print(\"Entradas:\\t {}\".format(df.shape[0]))\n",
        "print(\"Variáveis:\\t {}\\n\".format(df.shape[1]))\n",
        "\n",
        "print(df.dtypes)"
      ],
      "execution_count": 24,
      "outputs": [
        {
          "output_type": "stream",
          "text": [
            "Entradas:\t 17825\n",
            "Variáveis:\t 7\n",
            "room_type                          object\n",
            "price                               int64\n",
            "minimum_nights                      int64\n",
            "number_of_reviews                   int64\n",
            "reviews_per_month                 float64\n",
            "calculated_host_listings_count      int64\n",
            "availability_365                    int64\n",
            "dtype: object\n"
          ],
          "name": "stdout"
        }
      ]
    },
    {
      "cell_type": "code",
      "metadata": {
        "colab": {
          "base_uri": "https://localhost:8080/"
        },
        "id": "IFjKohpeUm3c",
        "outputId": "2f3110a4-238e-46d4-8215-9fb0eaccdb62"
      },
      "source": [
        "(df.isnull().sum() / df.shape[0]).sort_values(ascending=False)"
      ],
      "execution_count": 5,
      "outputs": [
        {
          "output_type": "execute_result",
          "data": {
            "text/plain": [
              "neighbourhood_group               1.000000\n",
              "reviews_per_month                 0.134642\n",
              "last_review                       0.134642\n",
              "host_name                         0.033380\n",
              "name                              0.001795\n",
              "availability_365                  0.000000\n",
              "calculated_host_listings_count    0.000000\n",
              "number_of_reviews                 0.000000\n",
              "minimum_nights                    0.000000\n",
              "price                             0.000000\n",
              "room_type                         0.000000\n",
              "longitude                         0.000000\n",
              "latitude                          0.000000\n",
              "neighbourhood                     0.000000\n",
              "host_id                           0.000000\n",
              "id                                0.000000\n",
              "dtype: float64"
            ]
          },
          "metadata": {
            "tags": []
          },
          "execution_count": 5
        }
      ]
    },
    {
      "cell_type": "code",
      "metadata": {
        "colab": {
          "base_uri": "https://localhost:8080/",
          "height": 826
        },
        "id": "JjprqzWhVj4c",
        "outputId": "6f3549f7-0c7f-4584-8e2e-b5aae5eba90e"
      },
      "source": [
        "df.hist(bins=20, figsize=(15,10))"
      ],
      "execution_count": 6,
      "outputs": [
        {
          "output_type": "execute_result",
          "data": {
            "text/plain": [
              "array([[<matplotlib.axes._subplots.AxesSubplot object at 0x7ff18fa00dd0>,\n",
              "        <matplotlib.axes._subplots.AxesSubplot object at 0x7ff18f963190>,\n",
              "        <matplotlib.axes._subplots.AxesSubplot object at 0x7ff18f91a810>],\n",
              "       [<matplotlib.axes._subplots.AxesSubplot object at 0x7ff18f8cfe90>,\n",
              "        <matplotlib.axes._subplots.AxesSubplot object at 0x7ff18f893550>,\n",
              "        <matplotlib.axes._subplots.AxesSubplot object at 0x7ff18f8c7bd0>],\n",
              "       [<matplotlib.axes._subplots.AxesSubplot object at 0x7ff18f80a310>,\n",
              "        <matplotlib.axes._subplots.AxesSubplot object at 0x7ff18f8408d0>,\n",
              "        <matplotlib.axes._subplots.AxesSubplot object at 0x7ff18f840910>],\n",
              "       [<matplotlib.axes._subplots.AxesSubplot object at 0x7ff18f8030d0>,\n",
              "        <matplotlib.axes._subplots.AxesSubplot object at 0x7ff18f76dcd0>,\n",
              "        <matplotlib.axes._subplots.AxesSubplot object at 0x7ff18f72f310>]],\n",
              "      dtype=object)"
            ]
          },
          "metadata": {
            "tags": []
          },
          "execution_count": 6
        },
        {
          "output_type": "display_data",
          "data": {
            "image/png": "[encoded data removed]",
            "text/plain": [
              "<Figure size 1080x720 with 12 Axes>"
            ]
          },
          "metadata": {
            "tags": [],
            "needs_background": "light"
          }
        }
      ]
    },
    {
      "cell_type": "markdown",
      "metadata": {
        "id": "0ssVwDbYqjDA"
      },
      "source": [
        "## Q4. Há outliers presentes?"
      ]
    },
    {
      "cell_type": "code",
      "metadata": {
        "colab": {
          "base_uri": "https://localhost:8080/",
          "height": 284
        },
        "id": "wGs4MRN3qh6k",
        "outputId": "700a017f-43f0-4aa2-8ff3-533fb74ccac6"
      },
      "source": [
        "df[['price', 'minimum_nights', 'number_of_reviews', 'reviews_per_month', 'calculated_host_listings_count', 'availability_365']].describe()"
      ],
      "execution_count": 30,
      "outputs": [
        {
          "output_type": "execute_result",
          "data": {
            "text/html": [
              "<div>\n",
              "<style scoped>\n",
              "    .dataframe tbody tr th:only-of-type {\n",
              "        vertical-align: middle;\n",
              "    }\n",
              "\n",
              "    .dataframe tbody tr th {\n",
              "        vertical-align: top;\n",
              "    }\n",
              "\n",
              "    .dataframe thead th {\n",
              "        text-align: right;\n",
              "    }\n",
              "</style>\n",
              "<table border=\"1\" class=\"dataframe\">\n",
              "  <thead>\n",
              "    <tr style=\"text-align: right;\">\n",
              "      <th></th>\n",
              "      <th>price</th>\n",
              "      <th>minimum_nights</th>\n",
              "      <th>number_of_reviews</th>\n",
              "      <th>reviews_per_month</th>\n",
              "      <th>calculated_host_listings_count</th>\n",
              "      <th>availability_365</th>\n",
              "    </tr>\n",
              "  </thead>\n",
              "  <tbody>\n",
              "    <tr>\n",
              "      <th>count</th>\n",
              "      <td>17825.000000</td>\n",
              "      <td>17825.000000</td>\n",
              "      <td>17825.000000</td>\n",
              "      <td>15425.000000</td>\n",
              "      <td>17825.000000</td>\n",
              "      <td>17825.000000</td>\n",
              "    </tr>\n",
              "    <tr>\n",
              "      <th>mean</th>\n",
              "      <td>154.495877</td>\n",
              "      <td>3.867041</td>\n",
              "      <td>23.952875</td>\n",
              "      <td>0.562200</td>\n",
              "      <td>2.684376</td>\n",
              "      <td>61.448247</td>\n",
              "    </tr>\n",
              "    <tr>\n",
              "      <th>std</th>\n",
              "      <td>154.162566</td>\n",
              "      <td>18.732039</td>\n",
              "      <td>54.831150</td>\n",
              "      <td>1.017706</td>\n",
              "      <td>8.813855</td>\n",
              "      <td>114.424897</td>\n",
              "    </tr>\n",
              "    <tr>\n",
              "      <th>min</th>\n",
              "      <td>0.000000</td>\n",
              "      <td>1.000000</td>\n",
              "      <td>0.000000</td>\n",
              "      <td>0.010000</td>\n",
              "      <td>1.000000</td>\n",
              "      <td>0.000000</td>\n",
              "    </tr>\n",
              "    <tr>\n",
              "      <th>25%</th>\n",
              "      <td>95.000000</td>\n",
              "      <td>2.000000</td>\n",
              "      <td>2.000000</td>\n",
              "      <td>0.120000</td>\n",
              "      <td>1.000000</td>\n",
              "      <td>0.000000</td>\n",
              "    </tr>\n",
              "    <tr>\n",
              "      <th>50%</th>\n",
              "      <td>129.000000</td>\n",
              "      <td>2.000000</td>\n",
              "      <td>8.000000</td>\n",
              "      <td>0.260000</td>\n",
              "      <td>1.000000</td>\n",
              "      <td>0.000000</td>\n",
              "    </tr>\n",
              "    <tr>\n",
              "      <th>75%</th>\n",
              "      <td>180.000000</td>\n",
              "      <td>3.000000</td>\n",
              "      <td>21.000000</td>\n",
              "      <td>0.540000</td>\n",
              "      <td>1.000000</td>\n",
              "      <td>83.000000</td>\n",
              "    </tr>\n",
              "    <tr>\n",
              "      <th>max</th>\n",
              "      <td>8000.000000</td>\n",
              "      <td>1100.000000</td>\n",
              "      <td>860.000000</td>\n",
              "      <td>32.190000</td>\n",
              "      <td>85.000000</td>\n",
              "      <td>365.000000</td>\n",
              "    </tr>\n",
              "  </tbody>\n",
              "</table>\n",
              "</div>"
            ],
            "text/plain": [
              "              price  ...  availability_365\n",
              "count  17825.000000  ...      17825.000000\n",
              "mean     154.495877  ...         61.448247\n",
              "std      154.162566  ...        114.424897\n",
              "min        0.000000  ...          0.000000\n",
              "25%       95.000000  ...          0.000000\n",
              "50%      129.000000  ...          0.000000\n",
              "75%      180.000000  ...         83.000000\n",
              "max     8000.000000  ...        365.000000\n",
              "\n",
              "[8 rows x 6 columns]"
            ]
          },
          "metadata": {
            "tags": []
          },
          "execution_count": 30
        }
      ]
    },
    {
      "cell_type": "code",
      "metadata": {
        "id": "l2kK-F07h1Jl"
      },
      "source": [
        "normalized_df = df[[\"price\", \"minimum_nights\", \"number_of_reviews\", \"reviews_per_month\", \"calculated_host_listings_count\", \"availability_365\"]]"
      ],
      "execution_count": 31,
      "outputs": []
    },
    {
      "cell_type": "markdown",
      "metadata": {
        "id": "poiVQukfrkVW"
      },
      "source": [
        "### Boxplot para `minimum_nights`"
      ]
    },
    {
      "cell_type": "code",
      "metadata": {
        "colab": {
          "base_uri": "https://localhost:8080/",
          "height": 262
        },
        "id": "Sr29d6yPrjLJ",
        "outputId": "65c47fe3-6583-45e1-cd03-34cbdad65f79"
      },
      "source": [
        "df.minimum_nights.plot(kind=\"box\", vert=False, figsize=(17,3))\n",
        "plt.show()\n",
        "\n",
        "\n",
        "# Ver quantidade de valores acima de 30\n",
        "entries_minimum_nights = len(df[df.minimum_nights > 30])\n",
        "percent_minimum_nights = len(df[df.minimum_nights > 30]) / df.shape[0] * 100\n",
        "print(\"minimum_nights: valores acima de 30:\")\n",
        "print(\"{} entradas\".format(entries_minimum_nights))\n",
        "print(\"{:.4f}%\".format(percent_minimum_nights))"
      ],
      "execution_count": 42,
      "outputs": [
        {
          "output_type": "display_data",
          "data": {
            "image/png": "[encoded data removed]",
            "text/plain": [
              "<Figure size 1224x216 with 1 Axes>"
            ]
          },
          "metadata": {
            "tags": [],
            "needs_background": "light"
          }
        },
        {
          "output_type": "stream",
          "text": [
            "minimum_nights: valores acima de 30:\n",
            "95 entradas\n",
            "0.5330%\n"
          ],
          "name": "stdout"
        }
      ]
    },
    {
      "cell_type": "code",
      "metadata": {
        "colab": {
          "base_uri": "https://localhost:8080/",
          "height": 738
        },
        "id": "fqD-YYfzWlkF",
        "outputId": "1b383008-2032-41fa-b86a-7e6f91e38592"
      },
      "source": [
        "fig, ax = plt.subplots(figsize=(10,10)) \n",
        "\n",
        "sns.heatmap(normalized_df.corr(), cmap=\"Wistia\", annot=True, ax=ax)\n",
        "plt.show()"
      ],
      "execution_count": 32,
      "outputs": [
        {
          "output_type": "display_data",
          "data": {
            "image/png": "[encoded data removed]",
            "text/plain": [
              "<Figure size 720x720 with 2 Axes>"
            ]
          },
          "metadata": {
            "tags": [],
            "needs_background": "light"
          }
        }
      ]
    },
    {
      "cell_type": "code",
      "metadata": {
        "id": "ZJPWeXUDmKeh"
      },
      "source": [
        ""
      ],
      "execution_count": null,
      "outputs": []
    }
  ]
}