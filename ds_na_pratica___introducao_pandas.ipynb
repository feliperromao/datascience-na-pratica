{
  "nbformat": 4,
  "nbformat_minor": 0,
  "metadata": {
    "colab": {
      "name": "ds-na-pratica_-_introducao-pandas",
      "provenance": [],
      "authorship_tag": "ABX9TyNxzMU+l60ZZ8nHiMncvgrt",
      "include_colab_link": true
    },
    "kernelspec": {
      "name": "python3",
      "display_name": "Python 3"
    },
    "language_info": {
      "name": "python"
    }
  },
  "cells": [
    {
      "cell_type": "markdown",
      "metadata": {
        "id": "view-in-github",
        "colab_type": "text"
      },
      "source": [
        "<a href=\"https://colab.research.google.com/github/feliperromao/datascience-na-pratica/blob/main/ds_na_pratica___introducao_pandas.ipynb\" target=\"_parent\"><img src=\"https://colab.research.google.com/assets/colab-badge.svg\" alt=\"Open In Colab\"/></a>"
      ]
    },
    {
      "cell_type": "code",
      "metadata": {
        "id": "Ec0hOuVUeJWD"
      },
      "source": [
        "import pandas as pd"
      ],
      "execution_count": 33,
      "outputs": []
    },
    {
      "cell_type": "markdown",
      "metadata": {
        "id": "Te8AJgyzhBLB"
      },
      "source": [
        "### Importando um dataframe a partir de um arquivo CSV"
      ]
    },
    {
      "cell_type": "code",
      "metadata": {
        "id": "b-uQQhqGeZjF"
      },
      "source": [
        "df = pd.read_csv(\"https://raw.githubusercontent.com/carlosfab/curso_data_science_na_pratica/master/modulo_02/BBAS3.SA.csv\")"
      ],
      "execution_count": 34,
      "outputs": []
    },
    {
      "cell_type": "code",
      "metadata": {
        "colab": {
          "base_uri": "https://localhost:8080/",
          "height": 408
        },
        "id": "_Go6zBWgeb0M",
        "outputId": "4319d3ba-5203-4b62-fe85-9feef5dc297c"
      },
      "source": [
        "df"
      ],
      "execution_count": 35,
      "outputs": [
        {
          "output_type": "execute_result",
          "data": {
            "text/html": [
              "<div>\n",
              "<style scoped>\n",
              "    .dataframe tbody tr th:only-of-type {\n",
              "        vertical-align: middle;\n",
              "    }\n",
              "\n",
              "    .dataframe tbody tr th {\n",
              "        vertical-align: top;\n",
              "    }\n",
              "\n",
              "    .dataframe thead th {\n",
              "        text-align: right;\n",
              "    }\n",
              "</style>\n",
              "<table border=\"1\" class=\"dataframe\">\n",
              "  <thead>\n",
              "    <tr style=\"text-align: right;\">\n",
              "      <th></th>\n",
              "      <th>Date</th>\n",
              "      <th>Open</th>\n",
              "      <th>High</th>\n",
              "      <th>Low</th>\n",
              "      <th>Close</th>\n",
              "      <th>Adj Close</th>\n",
              "      <th>Volume</th>\n",
              "    </tr>\n",
              "  </thead>\n",
              "  <tbody>\n",
              "    <tr>\n",
              "      <th>0</th>\n",
              "      <td>2018-09-21</td>\n",
              "      <td>29.730000</td>\n",
              "      <td>30.580000</td>\n",
              "      <td>29.340000</td>\n",
              "      <td>30.580000</td>\n",
              "      <td>28.680056</td>\n",
              "      <td>16301600</td>\n",
              "    </tr>\n",
              "    <tr>\n",
              "      <th>1</th>\n",
              "      <td>2018-09-24</td>\n",
              "      <td>30.379999</td>\n",
              "      <td>30.700001</td>\n",
              "      <td>29.500000</td>\n",
              "      <td>29.730000</td>\n",
              "      <td>27.882866</td>\n",
              "      <td>13086900</td>\n",
              "    </tr>\n",
              "    <tr>\n",
              "      <th>2</th>\n",
              "      <td>2018-09-25</td>\n",
              "      <td>29.030001</td>\n",
              "      <td>29.760000</td>\n",
              "      <td>28.809999</td>\n",
              "      <td>29.549999</td>\n",
              "      <td>27.714045</td>\n",
              "      <td>11742900</td>\n",
              "    </tr>\n",
              "    <tr>\n",
              "      <th>3</th>\n",
              "      <td>2018-09-26</td>\n",
              "      <td>29.650000</td>\n",
              "      <td>29.969999</td>\n",
              "      <td>29.209999</td>\n",
              "      <td>29.450001</td>\n",
              "      <td>27.620264</td>\n",
              "      <td>12842400</td>\n",
              "    </tr>\n",
              "    <tr>\n",
              "      <th>4</th>\n",
              "      <td>2018-09-27</td>\n",
              "      <td>29.680000</td>\n",
              "      <td>30.299999</td>\n",
              "      <td>29.680000</td>\n",
              "      <td>30.290001</td>\n",
              "      <td>28.408072</td>\n",
              "      <td>8767900</td>\n",
              "    </tr>\n",
              "    <tr>\n",
              "      <th>...</th>\n",
              "      <td>...</td>\n",
              "      <td>...</td>\n",
              "      <td>...</td>\n",
              "      <td>...</td>\n",
              "      <td>...</td>\n",
              "      <td>...</td>\n",
              "      <td>...</td>\n",
              "    </tr>\n",
              "    <tr>\n",
              "      <th>241</th>\n",
              "      <td>2019-09-16</td>\n",
              "      <td>47.040001</td>\n",
              "      <td>47.560001</td>\n",
              "      <td>46.299999</td>\n",
              "      <td>46.650002</td>\n",
              "      <td>46.650002</td>\n",
              "      <td>8175500</td>\n",
              "    </tr>\n",
              "    <tr>\n",
              "      <th>242</th>\n",
              "      <td>2019-09-17</td>\n",
              "      <td>46.389999</td>\n",
              "      <td>47.450001</td>\n",
              "      <td>46.119999</td>\n",
              "      <td>47.299999</td>\n",
              "      <td>47.299999</td>\n",
              "      <td>6744200</td>\n",
              "    </tr>\n",
              "    <tr>\n",
              "      <th>243</th>\n",
              "      <td>2019-09-18</td>\n",
              "      <td>47.459999</td>\n",
              "      <td>48.250000</td>\n",
              "      <td>47.160000</td>\n",
              "      <td>48.020000</td>\n",
              "      <td>48.020000</td>\n",
              "      <td>8528300</td>\n",
              "    </tr>\n",
              "    <tr>\n",
              "      <th>244</th>\n",
              "      <td>2019-09-19</td>\n",
              "      <td>48.410000</td>\n",
              "      <td>48.700001</td>\n",
              "      <td>46.770000</td>\n",
              "      <td>46.770000</td>\n",
              "      <td>46.770000</td>\n",
              "      <td>9661800</td>\n",
              "    </tr>\n",
              "    <tr>\n",
              "      <th>245</th>\n",
              "      <td>2019-09-20</td>\n",
              "      <td>47.000000</td>\n",
              "      <td>47.980000</td>\n",
              "      <td>46.900002</td>\n",
              "      <td>47.509998</td>\n",
              "      <td>47.509998</td>\n",
              "      <td>15284500</td>\n",
              "    </tr>\n",
              "  </tbody>\n",
              "</table>\n",
              "<p>246 rows × 7 columns</p>\n",
              "</div>"
            ],
            "text/plain": [
              "           Date       Open       High  ...      Close  Adj Close    Volume\n",
              "0    2018-09-21  29.730000  30.580000  ...  30.580000  28.680056  16301600\n",
              "1    2018-09-24  30.379999  30.700001  ...  29.730000  27.882866  13086900\n",
              "2    2018-09-25  29.030001  29.760000  ...  29.549999  27.714045  11742900\n",
              "3    2018-09-26  29.650000  29.969999  ...  29.450001  27.620264  12842400\n",
              "4    2018-09-27  29.680000  30.299999  ...  30.290001  28.408072   8767900\n",
              "..          ...        ...        ...  ...        ...        ...       ...\n",
              "241  2019-09-16  47.040001  47.560001  ...  46.650002  46.650002   8175500\n",
              "242  2019-09-17  46.389999  47.450001  ...  47.299999  47.299999   6744200\n",
              "243  2019-09-18  47.459999  48.250000  ...  48.020000  48.020000   8528300\n",
              "244  2019-09-19  48.410000  48.700001  ...  46.770000  46.770000   9661800\n",
              "245  2019-09-20  47.000000  47.980000  ...  47.509998  47.509998  15284500\n",
              "\n",
              "[246 rows x 7 columns]"
            ]
          },
          "metadata": {
            "tags": []
          },
          "execution_count": 35
        }
      ]
    },
    {
      "cell_type": "markdown",
      "metadata": {
        "id": "7KarJ9BDhJto"
      },
      "source": [
        "### Visualizando quantidade de registros e colunas no data frame"
      ]
    },
    {
      "cell_type": "code",
      "metadata": {
        "colab": {
          "base_uri": "https://localhost:8080/"
        },
        "id": "9C2iVY5Xecp3",
        "outputId": "022f74c5-a40d-4b5b-92c7-5a2213fd2bb6"
      },
      "source": [
        "df.shape"
      ],
      "execution_count": 36,
      "outputs": [
        {
          "output_type": "execute_result",
          "data": {
            "text/plain": [
              "(246, 7)"
            ]
          },
          "metadata": {
            "tags": []
          },
          "execution_count": 36
        }
      ]
    },
    {
      "cell_type": "markdown",
      "metadata": {
        "id": "NR2zLvl3hQaP"
      },
      "source": [
        "### Visualizando os tipos das colunas"
      ]
    },
    {
      "cell_type": "code",
      "metadata": {
        "colab": {
          "base_uri": "https://localhost:8080/"
        },
        "id": "-CkXfGmFe9oX",
        "outputId": "7e8052b1-ca91-4502-900a-7d9950ba4ab6"
      },
      "source": [
        "df.dtypes"
      ],
      "execution_count": 37,
      "outputs": [
        {
          "output_type": "execute_result",
          "data": {
            "text/plain": [
              "Date          object\n",
              "Open         float64\n",
              "High         float64\n",
              "Low          float64\n",
              "Close        float64\n",
              "Adj Close    float64\n",
              "Volume         int64\n",
              "dtype: object"
            ]
          },
          "metadata": {
            "tags": []
          },
          "execution_count": 37
        }
      ]
    },
    {
      "cell_type": "markdown",
      "metadata": {
        "id": "OWHcAgHRhYGy"
      },
      "source": [
        "### Visualizando os primeiros 5 registros"
      ]
    },
    {
      "cell_type": "code",
      "metadata": {
        "colab": {
          "base_uri": "https://localhost:8080/",
          "height": 198
        },
        "id": "NxtJQl1SfOZv",
        "outputId": "d19c3085-b452-499c-9d38-b826bc25c56d"
      },
      "source": [
        "df.head()"
      ],
      "execution_count": 38,
      "outputs": [
        {
          "output_type": "execute_result",
          "data": {
            "text/html": [
              "<div>\n",
              "<style scoped>\n",
              "    .dataframe tbody tr th:only-of-type {\n",
              "        vertical-align: middle;\n",
              "    }\n",
              "\n",
              "    .dataframe tbody tr th {\n",
              "        vertical-align: top;\n",
              "    }\n",
              "\n",
              "    .dataframe thead th {\n",
              "        text-align: right;\n",
              "    }\n",
              "</style>\n",
              "<table border=\"1\" class=\"dataframe\">\n",
              "  <thead>\n",
              "    <tr style=\"text-align: right;\">\n",
              "      <th></th>\n",
              "      <th>Date</th>\n",
              "      <th>Open</th>\n",
              "      <th>High</th>\n",
              "      <th>Low</th>\n",
              "      <th>Close</th>\n",
              "      <th>Adj Close</th>\n",
              "      <th>Volume</th>\n",
              "    </tr>\n",
              "  </thead>\n",
              "  <tbody>\n",
              "    <tr>\n",
              "      <th>0</th>\n",
              "      <td>2018-09-21</td>\n",
              "      <td>29.730000</td>\n",
              "      <td>30.580000</td>\n",
              "      <td>29.340000</td>\n",
              "      <td>30.580000</td>\n",
              "      <td>28.680056</td>\n",
              "      <td>16301600</td>\n",
              "    </tr>\n",
              "    <tr>\n",
              "      <th>1</th>\n",
              "      <td>2018-09-24</td>\n",
              "      <td>30.379999</td>\n",
              "      <td>30.700001</td>\n",
              "      <td>29.500000</td>\n",
              "      <td>29.730000</td>\n",
              "      <td>27.882866</td>\n",
              "      <td>13086900</td>\n",
              "    </tr>\n",
              "    <tr>\n",
              "      <th>2</th>\n",
              "      <td>2018-09-25</td>\n",
              "      <td>29.030001</td>\n",
              "      <td>29.760000</td>\n",
              "      <td>28.809999</td>\n",
              "      <td>29.549999</td>\n",
              "      <td>27.714045</td>\n",
              "      <td>11742900</td>\n",
              "    </tr>\n",
              "    <tr>\n",
              "      <th>3</th>\n",
              "      <td>2018-09-26</td>\n",
              "      <td>29.650000</td>\n",
              "      <td>29.969999</td>\n",
              "      <td>29.209999</td>\n",
              "      <td>29.450001</td>\n",
              "      <td>27.620264</td>\n",
              "      <td>12842400</td>\n",
              "    </tr>\n",
              "    <tr>\n",
              "      <th>4</th>\n",
              "      <td>2018-09-27</td>\n",
              "      <td>29.680000</td>\n",
              "      <td>30.299999</td>\n",
              "      <td>29.680000</td>\n",
              "      <td>30.290001</td>\n",
              "      <td>28.408072</td>\n",
              "      <td>8767900</td>\n",
              "    </tr>\n",
              "  </tbody>\n",
              "</table>\n",
              "</div>"
            ],
            "text/plain": [
              "         Date       Open       High        Low      Close  Adj Close    Volume\n",
              "0  2018-09-21  29.730000  30.580000  29.340000  30.580000  28.680056  16301600\n",
              "1  2018-09-24  30.379999  30.700001  29.500000  29.730000  27.882866  13086900\n",
              "2  2018-09-25  29.030001  29.760000  28.809999  29.549999  27.714045  11742900\n",
              "3  2018-09-26  29.650000  29.969999  29.209999  29.450001  27.620264  12842400\n",
              "4  2018-09-27  29.680000  30.299999  29.680000  30.290001  28.408072   8767900"
            ]
          },
          "metadata": {
            "tags": []
          },
          "execution_count": 38
        }
      ]
    },
    {
      "cell_type": "markdown",
      "metadata": {
        "id": "OzBMupJzhb0G"
      },
      "source": [
        "### Visualizando os ultimos 5 registros"
      ]
    },
    {
      "cell_type": "code",
      "metadata": {
        "colab": {
          "base_uri": "https://localhost:8080/",
          "height": 198
        },
        "id": "EGelDo8rf62j",
        "outputId": "75a3a675-ea64-46c0-c004-d335552e60cb"
      },
      "source": [
        "df.tail()"
      ],
      "execution_count": 39,
      "outputs": [
        {
          "output_type": "execute_result",
          "data": {
            "text/html": [
              "<div>\n",
              "<style scoped>\n",
              "    .dataframe tbody tr th:only-of-type {\n",
              "        vertical-align: middle;\n",
              "    }\n",
              "\n",
              "    .dataframe tbody tr th {\n",
              "        vertical-align: top;\n",
              "    }\n",
              "\n",
              "    .dataframe thead th {\n",
              "        text-align: right;\n",
              "    }\n",
              "</style>\n",
              "<table border=\"1\" class=\"dataframe\">\n",
              "  <thead>\n",
              "    <tr style=\"text-align: right;\">\n",
              "      <th></th>\n",
              "      <th>Date</th>\n",
              "      <th>Open</th>\n",
              "      <th>High</th>\n",
              "      <th>Low</th>\n",
              "      <th>Close</th>\n",
              "      <th>Adj Close</th>\n",
              "      <th>Volume</th>\n",
              "    </tr>\n",
              "  </thead>\n",
              "  <tbody>\n",
              "    <tr>\n",
              "      <th>241</th>\n",
              "      <td>2019-09-16</td>\n",
              "      <td>47.040001</td>\n",
              "      <td>47.560001</td>\n",
              "      <td>46.299999</td>\n",
              "      <td>46.650002</td>\n",
              "      <td>46.650002</td>\n",
              "      <td>8175500</td>\n",
              "    </tr>\n",
              "    <tr>\n",
              "      <th>242</th>\n",
              "      <td>2019-09-17</td>\n",
              "      <td>46.389999</td>\n",
              "      <td>47.450001</td>\n",
              "      <td>46.119999</td>\n",
              "      <td>47.299999</td>\n",
              "      <td>47.299999</td>\n",
              "      <td>6744200</td>\n",
              "    </tr>\n",
              "    <tr>\n",
              "      <th>243</th>\n",
              "      <td>2019-09-18</td>\n",
              "      <td>47.459999</td>\n",
              "      <td>48.250000</td>\n",
              "      <td>47.160000</td>\n",
              "      <td>48.020000</td>\n",
              "      <td>48.020000</td>\n",
              "      <td>8528300</td>\n",
              "    </tr>\n",
              "    <tr>\n",
              "      <th>244</th>\n",
              "      <td>2019-09-19</td>\n",
              "      <td>48.410000</td>\n",
              "      <td>48.700001</td>\n",
              "      <td>46.770000</td>\n",
              "      <td>46.770000</td>\n",
              "      <td>46.770000</td>\n",
              "      <td>9661800</td>\n",
              "    </tr>\n",
              "    <tr>\n",
              "      <th>245</th>\n",
              "      <td>2019-09-20</td>\n",
              "      <td>47.000000</td>\n",
              "      <td>47.980000</td>\n",
              "      <td>46.900002</td>\n",
              "      <td>47.509998</td>\n",
              "      <td>47.509998</td>\n",
              "      <td>15284500</td>\n",
              "    </tr>\n",
              "  </tbody>\n",
              "</table>\n",
              "</div>"
            ],
            "text/plain": [
              "           Date       Open       High  ...      Close  Adj Close    Volume\n",
              "241  2019-09-16  47.040001  47.560001  ...  46.650002  46.650002   8175500\n",
              "242  2019-09-17  46.389999  47.450001  ...  47.299999  47.299999   6744200\n",
              "243  2019-09-18  47.459999  48.250000  ...  48.020000  48.020000   8528300\n",
              "244  2019-09-19  48.410000  48.700001  ...  46.770000  46.770000   9661800\n",
              "245  2019-09-20  47.000000  47.980000  ...  47.509998  47.509998  15284500\n",
              "\n",
              "[5 rows x 7 columns]"
            ]
          },
          "metadata": {
            "tags": []
          },
          "execution_count": 39
        }
      ]
    },
    {
      "cell_type": "markdown",
      "metadata": {
        "id": "Li4wr4brhfXn"
      },
      "source": [
        "### Listando os nomes das colunas"
      ]
    },
    {
      "cell_type": "code",
      "metadata": {
        "colab": {
          "base_uri": "https://localhost:8080/"
        },
        "id": "lsB5Bcl2f8CI",
        "outputId": "c280e310-621a-4e20-e431-a72c7e2ddbb2"
      },
      "source": [
        "df.columns"
      ],
      "execution_count": 40,
      "outputs": [
        {
          "output_type": "execute_result",
          "data": {
            "text/plain": [
              "Index(['Date', 'Open', 'High', 'Low', 'Close', 'Adj Close', 'Volume'], dtype='object')"
            ]
          },
          "metadata": {
            "tags": []
          },
          "execution_count": 40
        }
      ]
    },
    {
      "cell_type": "code",
      "metadata": {
        "colab": {
          "base_uri": "https://localhost:8080/"
        },
        "id": "vZnB8hfpgSFL",
        "outputId": "9a58f9bc-e54e-4dc3-82a3-22872c18fbfe"
      },
      "source": [
        "for column in df.columns:\n",
        "  print(\"Nome da coluna\\t{}\".format(column))"
      ],
      "execution_count": 41,
      "outputs": [
        {
          "output_type": "stream",
          "text": [
            "Nome da coluna\tDate\n",
            "Nome da coluna\tOpen\n",
            "Nome da coluna\tHigh\n",
            "Nome da coluna\tLow\n",
            "Nome da coluna\tClose\n",
            "Nome da coluna\tAdj Close\n",
            "Nome da coluna\tVolume\n"
          ],
          "name": "stdout"
        }
      ]
    },
    {
      "cell_type": "markdown",
      "metadata": {
        "id": "XMxCRaW9g6Y0"
      },
      "source": [
        "### Ver os 5 primeiros registros da coluna `High`"
      ]
    },
    {
      "cell_type": "code",
      "metadata": {
        "colab": {
          "base_uri": "https://localhost:8080/"
        },
        "id": "pPXTdnyngbZt",
        "outputId": "5b57bf59-b595-402d-f94f-935d6039b441"
      },
      "source": [
        "df[\"High\"].head()"
      ],
      "execution_count": 42,
      "outputs": [
        {
          "output_type": "execute_result",
          "data": {
            "text/plain": [
              "0    30.580000\n",
              "1    30.700001\n",
              "2    29.760000\n",
              "3    29.969999\n",
              "4    30.299999\n",
              "Name: High, dtype: float64"
            ]
          },
          "metadata": {
            "tags": []
          },
          "execution_count": 42
        }
      ]
    },
    {
      "cell_type": "markdown",
      "metadata": {
        "id": "_6Z-cIxxhlaa"
      },
      "source": [
        "### Calculando a média da coluna `High`"
      ]
    },
    {
      "cell_type": "code",
      "metadata": {
        "colab": {
          "base_uri": "https://localhost:8080/"
        },
        "id": "rcnpUhl7gvIE",
        "outputId": "bf6184a4-e11c-4805-a023-8f9cd2c4478a"
      },
      "source": [
        "df[\"High\"].mean()"
      ],
      "execution_count": 43,
      "outputs": [
        {
          "output_type": "execute_result",
          "data": {
            "text/plain": [
              "48.15211368292682"
            ]
          },
          "metadata": {
            "tags": []
          },
          "execution_count": 43
        }
      ]
    },
    {
      "cell_type": "markdown",
      "metadata": {
        "id": "IIRjcLHHiyNh"
      },
      "source": [
        "## Criando Data frame"
      ]
    },
    {
      "cell_type": "code",
      "metadata": {
        "colab": {
          "base_uri": "https://localhost:8080/",
          "height": 168
        },
        "id": "mDefmoCOhr6Z",
        "outputId": "540fd7ea-07f3-4999-b9d2-6c8ca2fb5cac"
      },
      "source": [
        "dados = {\n",
        "    \"nome\": ['Felipe', 'José', 'Romão', 'Martins'],\n",
        "    \"idade\": [21, 28, 23, 20],\n",
        "    \"cidade\": [\"Fortaleza\", \"Caucaia\", \"Maranguape\", \"Eusébio\"],\n",
        "    \"comprou\": [True, False, True, True]\n",
        "}\n",
        "\n",
        "new_df = pd.DataFrame(dados)\n",
        "display(new_df)"
      ],
      "execution_count": 44,
      "outputs": [
        {
          "output_type": "display_data",
          "data": {
            "text/html": [
              "<div>\n",
              "<style scoped>\n",
              "    .dataframe tbody tr th:only-of-type {\n",
              "        vertical-align: middle;\n",
              "    }\n",
              "\n",
              "    .dataframe tbody tr th {\n",
              "        vertical-align: top;\n",
              "    }\n",
              "\n",
              "    .dataframe thead th {\n",
              "        text-align: right;\n",
              "    }\n",
              "</style>\n",
              "<table border=\"1\" class=\"dataframe\">\n",
              "  <thead>\n",
              "    <tr style=\"text-align: right;\">\n",
              "      <th></th>\n",
              "      <th>nome</th>\n",
              "      <th>idade</th>\n",
              "      <th>cidade</th>\n",
              "      <th>comprou</th>\n",
              "    </tr>\n",
              "  </thead>\n",
              "  <tbody>\n",
              "    <tr>\n",
              "      <th>0</th>\n",
              "      <td>Felipe</td>\n",
              "      <td>21</td>\n",
              "      <td>Fortaleza</td>\n",
              "      <td>True</td>\n",
              "    </tr>\n",
              "    <tr>\n",
              "      <th>1</th>\n",
              "      <td>José</td>\n",
              "      <td>28</td>\n",
              "      <td>Caucaia</td>\n",
              "      <td>False</td>\n",
              "    </tr>\n",
              "    <tr>\n",
              "      <th>2</th>\n",
              "      <td>Romão</td>\n",
              "      <td>23</td>\n",
              "      <td>Maranguape</td>\n",
              "      <td>True</td>\n",
              "    </tr>\n",
              "    <tr>\n",
              "      <th>3</th>\n",
              "      <td>Martins</td>\n",
              "      <td>20</td>\n",
              "      <td>Eusébio</td>\n",
              "      <td>True</td>\n",
              "    </tr>\n",
              "  </tbody>\n",
              "</table>\n",
              "</div>"
            ],
            "text/plain": [
              "      nome  idade      cidade  comprou\n",
              "0   Felipe     21   Fortaleza     True\n",
              "1     José     28     Caucaia    False\n",
              "2    Romão     23  Maranguape     True\n",
              "3  Martins     20     Eusébio     True"
            ]
          },
          "metadata": {
            "tags": []
          }
        }
      ]
    },
    {
      "cell_type": "markdown",
      "metadata": {
        "id": "8TnnFVIpkD5P"
      },
      "source": [
        "### Data frame a partir de listas"
      ]
    },
    {
      "cell_type": "code",
      "metadata": {
        "colab": {
          "base_uri": "https://localhost:8080/",
          "height": 168
        },
        "id": "ZKqxNa0YjTC_",
        "outputId": "4de362f3-5e48-42a8-c3f8-e33e535f70cc"
      },
      "source": [
        "nomes = ['Felipe 2', 'José 1', 'Romão 3', 'Martins 4']\n",
        "idades = [21, 28, 23, 20]\n",
        "cidades = [\"Fortaleza\", \"Caucaia\", \"Maranguape\", \"Eusébio\"]\n",
        "compras = [True, False, True, True]\n",
        "\n",
        "labels = ['nome', 'idade', 'cidade', 'comprou']\n",
        "list_cols = [nomes, idades, cidades, compras]\n",
        "\n",
        "dados = dict(list(zip(labels, list_cols)))\n",
        "\n",
        "new_df = pd.DataFrame(dados)\n",
        "new_df"
      ],
      "execution_count": 45,
      "outputs": [
        {
          "output_type": "execute_result",
          "data": {
            "text/html": [
              "<div>\n",
              "<style scoped>\n",
              "    .dataframe tbody tr th:only-of-type {\n",
              "        vertical-align: middle;\n",
              "    }\n",
              "\n",
              "    .dataframe tbody tr th {\n",
              "        vertical-align: top;\n",
              "    }\n",
              "\n",
              "    .dataframe thead th {\n",
              "        text-align: right;\n",
              "    }\n",
              "</style>\n",
              "<table border=\"1\" class=\"dataframe\">\n",
              "  <thead>\n",
              "    <tr style=\"text-align: right;\">\n",
              "      <th></th>\n",
              "      <th>nome</th>\n",
              "      <th>idade</th>\n",
              "      <th>cidade</th>\n",
              "      <th>comprou</th>\n",
              "    </tr>\n",
              "  </thead>\n",
              "  <tbody>\n",
              "    <tr>\n",
              "      <th>0</th>\n",
              "      <td>Felipe 2</td>\n",
              "      <td>21</td>\n",
              "      <td>Fortaleza</td>\n",
              "      <td>True</td>\n",
              "    </tr>\n",
              "    <tr>\n",
              "      <th>1</th>\n",
              "      <td>José 1</td>\n",
              "      <td>28</td>\n",
              "      <td>Caucaia</td>\n",
              "      <td>False</td>\n",
              "    </tr>\n",
              "    <tr>\n",
              "      <th>2</th>\n",
              "      <td>Romão 3</td>\n",
              "      <td>23</td>\n",
              "      <td>Maranguape</td>\n",
              "      <td>True</td>\n",
              "    </tr>\n",
              "    <tr>\n",
              "      <th>3</th>\n",
              "      <td>Martins 4</td>\n",
              "      <td>20</td>\n",
              "      <td>Eusébio</td>\n",
              "      <td>True</td>\n",
              "    </tr>\n",
              "  </tbody>\n",
              "</table>\n",
              "</div>"
            ],
            "text/plain": [
              "        nome  idade      cidade  comprou\n",
              "0   Felipe 2     21   Fortaleza     True\n",
              "1     José 1     28     Caucaia    False\n",
              "2    Romão 3     23  Maranguape     True\n",
              "3  Martins 4     20     Eusébio     True"
            ]
          },
          "metadata": {
            "tags": []
          },
          "execution_count": 45
        }
      ]
    },
    {
      "cell_type": "markdown",
      "metadata": {
        "id": "MyfixY84lIp_"
      },
      "source": [
        "### Criar novas colunas"
      ]
    },
    {
      "cell_type": "code",
      "metadata": {
        "colab": {
          "base_uri": "https://localhost:8080/",
          "height": 168
        },
        "id": "OmGrUDlakmS4",
        "outputId": "0bf72869-4349-422a-d456-451f38361873"
      },
      "source": [
        "new_df[\"status\"] = True\n",
        "new_df[\"saldo\"] = [0.0, 1.2, 1.4, 1.9]\n",
        "new_df"
      ],
      "execution_count": 46,
      "outputs": [
        {
          "output_type": "execute_result",
          "data": {
            "text/html": [
              "<div>\n",
              "<style scoped>\n",
              "    .dataframe tbody tr th:only-of-type {\n",
              "        vertical-align: middle;\n",
              "    }\n",
              "\n",
              "    .dataframe tbody tr th {\n",
              "        vertical-align: top;\n",
              "    }\n",
              "\n",
              "    .dataframe thead th {\n",
              "        text-align: right;\n",
              "    }\n",
              "</style>\n",
              "<table border=\"1\" class=\"dataframe\">\n",
              "  <thead>\n",
              "    <tr style=\"text-align: right;\">\n",
              "      <th></th>\n",
              "      <th>nome</th>\n",
              "      <th>idade</th>\n",
              "      <th>cidade</th>\n",
              "      <th>comprou</th>\n",
              "      <th>status</th>\n",
              "      <th>saldo</th>\n",
              "    </tr>\n",
              "  </thead>\n",
              "  <tbody>\n",
              "    <tr>\n",
              "      <th>0</th>\n",
              "      <td>Felipe 2</td>\n",
              "      <td>21</td>\n",
              "      <td>Fortaleza</td>\n",
              "      <td>True</td>\n",
              "      <td>True</td>\n",
              "      <td>0.0</td>\n",
              "    </tr>\n",
              "    <tr>\n",
              "      <th>1</th>\n",
              "      <td>José 1</td>\n",
              "      <td>28</td>\n",
              "      <td>Caucaia</td>\n",
              "      <td>False</td>\n",
              "      <td>True</td>\n",
              "      <td>1.2</td>\n",
              "    </tr>\n",
              "    <tr>\n",
              "      <th>2</th>\n",
              "      <td>Romão 3</td>\n",
              "      <td>23</td>\n",
              "      <td>Maranguape</td>\n",
              "      <td>True</td>\n",
              "      <td>True</td>\n",
              "      <td>1.4</td>\n",
              "    </tr>\n",
              "    <tr>\n",
              "      <th>3</th>\n",
              "      <td>Martins 4</td>\n",
              "      <td>20</td>\n",
              "      <td>Eusébio</td>\n",
              "      <td>True</td>\n",
              "      <td>True</td>\n",
              "      <td>1.9</td>\n",
              "    </tr>\n",
              "  </tbody>\n",
              "</table>\n",
              "</div>"
            ],
            "text/plain": [
              "        nome  idade      cidade  comprou  status  saldo\n",
              "0   Felipe 2     21   Fortaleza     True    True    0.0\n",
              "1     José 1     28     Caucaia    False    True    1.2\n",
              "2    Romão 3     23  Maranguape     True    True    1.4\n",
              "3  Martins 4     20     Eusébio     True    True    1.9"
            ]
          },
          "metadata": {
            "tags": []
          },
          "execution_count": 46
        }
      ]
    },
    {
      "cell_type": "markdown",
      "metadata": {
        "id": "B36yxCkNl961"
      },
      "source": [
        "### Atualizando o indice"
      ]
    },
    {
      "cell_type": "code",
      "metadata": {
        "colab": {
          "base_uri": "https://localhost:8080/"
        },
        "id": "I892v5mAlS0p",
        "outputId": "a126b65c-91ab-4248-981e-45ccdf9e38e8"
      },
      "source": [
        "new_df.index"
      ],
      "execution_count": 48,
      "outputs": [
        {
          "output_type": "execute_result",
          "data": {
            "text/plain": [
              "RangeIndex(start=0, stop=4, step=1)"
            ]
          },
          "metadata": {
            "tags": []
          },
          "execution_count": 48
        }
      ]
    },
    {
      "cell_type": "code",
      "metadata": {
        "colab": {
          "base_uri": "https://localhost:8080/"
        },
        "id": "C-6Q1c6GmA_t",
        "outputId": "b4948286-c2d2-4ba6-ba2b-d42e955fd2b2"
      },
      "source": [
        "new_df.index = ['a', 'b', 'c', 'd']\n",
        "new_df.index"
      ],
      "execution_count": 49,
      "outputs": [
        {
          "output_type": "execute_result",
          "data": {
            "text/plain": [
              "Index(['a', 'b', 'c', 'd'], dtype='object')"
            ]
          },
          "metadata": {
            "tags": []
          },
          "execution_count": 49
        }
      ]
    },
    {
      "cell_type": "markdown",
      "metadata": {
        "id": "nVIy0DwomNwh"
      },
      "source": [
        "### Alterando nome das colunas"
      ]
    },
    {
      "cell_type": "code",
      "metadata": {
        "colab": {
          "base_uri": "https://localhost:8080/",
          "height": 168
        },
        "id": "J2DMMSapmKsf",
        "outputId": "632f7fd7-dffd-446c-8031-1a92b292144a"
      },
      "source": [
        "new_df.columns = [\"Nome do Cliente\", \"Idade\", \"Naturalidade\", \"Fez compras\", \"Cadastro ativo\", \"Salvo em loja\"]\n",
        "new_df"
      ],
      "execution_count": 51,
      "outputs": [
        {
          "output_type": "execute_result",
          "data": {
            "text/html": [
              "<div>\n",
              "<style scoped>\n",
              "    .dataframe tbody tr th:only-of-type {\n",
              "        vertical-align: middle;\n",
              "    }\n",
              "\n",
              "    .dataframe tbody tr th {\n",
              "        vertical-align: top;\n",
              "    }\n",
              "\n",
              "    .dataframe thead th {\n",
              "        text-align: right;\n",
              "    }\n",
              "</style>\n",
              "<table border=\"1\" class=\"dataframe\">\n",
              "  <thead>\n",
              "    <tr style=\"text-align: right;\">\n",
              "      <th></th>\n",
              "      <th>Nome do Cliente</th>\n",
              "      <th>Idade</th>\n",
              "      <th>Naturalidade</th>\n",
              "      <th>Fez compras</th>\n",
              "      <th>Cadastro ativo</th>\n",
              "      <th>Salvo em loja</th>\n",
              "    </tr>\n",
              "  </thead>\n",
              "  <tbody>\n",
              "    <tr>\n",
              "      <th>a</th>\n",
              "      <td>Felipe 2</td>\n",
              "      <td>21</td>\n",
              "      <td>Fortaleza</td>\n",
              "      <td>True</td>\n",
              "      <td>True</td>\n",
              "      <td>0.0</td>\n",
              "    </tr>\n",
              "    <tr>\n",
              "      <th>b</th>\n",
              "      <td>José 1</td>\n",
              "      <td>28</td>\n",
              "      <td>Caucaia</td>\n",
              "      <td>False</td>\n",
              "      <td>True</td>\n",
              "      <td>1.2</td>\n",
              "    </tr>\n",
              "    <tr>\n",
              "      <th>c</th>\n",
              "      <td>Romão 3</td>\n",
              "      <td>23</td>\n",
              "      <td>Maranguape</td>\n",
              "      <td>True</td>\n",
              "      <td>True</td>\n",
              "      <td>1.4</td>\n",
              "    </tr>\n",
              "    <tr>\n",
              "      <th>d</th>\n",
              "      <td>Martins 4</td>\n",
              "      <td>20</td>\n",
              "      <td>Eusébio</td>\n",
              "      <td>True</td>\n",
              "      <td>True</td>\n",
              "      <td>1.9</td>\n",
              "    </tr>\n",
              "  </tbody>\n",
              "</table>\n",
              "</div>"
            ],
            "text/plain": [
              "  Nome do Cliente  Idade  ... Cadastro ativo  Salvo em loja\n",
              "a        Felipe 2     21  ...           True            0.0\n",
              "b          José 1     28  ...           True            1.2\n",
              "c         Romão 3     23  ...           True            1.4\n",
              "d       Martins 4     20  ...           True            1.9\n",
              "\n",
              "[4 rows x 6 columns]"
            ]
          },
          "metadata": {
            "tags": []
          },
          "execution_count": 51
        }
      ]
    },
    {
      "cell_type": "code",
      "metadata": {
        "id": "HH20SpP_mm8h"
      },
      "source": [
        ""
      ],
      "execution_count": null,
      "outputs": []
    }
  ]
}