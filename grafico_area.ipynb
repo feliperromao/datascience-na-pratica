{
  "nbformat": 4,
  "nbformat_minor": 0,
  "metadata": {
    "colab": {
      "name": "grafico-area",
      "provenance": [],
      "authorship_tag": "ABX9TyPFKfJ4zaAUIP58VIPOeapv",
      "include_colab_link": true
    },
    "kernelspec": {
      "name": "python3",
      "display_name": "Python 3"
    },
    "language_info": {
      "name": "python"
    }
  },
  "cells": [
    {
      "cell_type": "markdown",
      "metadata": {
        "id": "view-in-github",
        "colab_type": "text"
      },
      "source": [
        "<a href=\"https://colab.research.google.com/github/feliperromao/datascience-na-pratica/blob/main/grafico_area.ipynb\" target=\"_parent\"><img src=\"https://colab.research.google.com/assets/colab-badge.svg\" alt=\"Open In Colab\"/></a>"
      ]
    },
    {
      "cell_type": "code",
      "metadata": {
        "colab": {
          "base_uri": "https://localhost:8080/",
          "height": 226
        },
        "id": "tHYGzPbY4WYB",
        "outputId": "85f38335-d3fe-436b-e108-925feb1a7f2b"
      },
      "source": [
        "# importar bibliotecas\n",
        "import pandas as pd\n",
        "import matplotlib.pyplot as plt\n",
        "\n",
        "# importar dados para dataframe\n",
        "data = \"https://raw.githubusercontent.com/carlosfab/curso_data_science_na_pratica/master/modulo_03/dengue-dataset.csv\"\n",
        "df = pd.read_csv(data, index_col=\"data\", parse_dates=True)\n",
        "\n",
        "# ver as 5 primeiras entradas\n",
        "df.head()"
      ],
      "execution_count": 1,
      "outputs": [
        {
          "output_type": "execute_result",
          "data": {
            "text/html": [
              "<div>\n",
              "<style scoped>\n",
              "    .dataframe tbody tr th:only-of-type {\n",
              "        vertical-align: middle;\n",
              "    }\n",
              "\n",
              "    .dataframe tbody tr th {\n",
              "        vertical-align: top;\n",
              "    }\n",
              "\n",
              "    .dataframe thead th {\n",
              "        text-align: right;\n",
              "    }\n",
              "</style>\n",
              "<table border=\"1\" class=\"dataframe\">\n",
              "  <thead>\n",
              "    <tr style=\"text-align: right;\">\n",
              "      <th></th>\n",
              "      <th>casos-confirmados</th>\n",
              "      <th>chuva</th>\n",
              "      <th>temperatura-media</th>\n",
              "      <th>temperatura-mininima</th>\n",
              "      <th>temperatura-maxima</th>\n",
              "    </tr>\n",
              "    <tr>\n",
              "      <th>data</th>\n",
              "      <th></th>\n",
              "      <th></th>\n",
              "      <th></th>\n",
              "      <th></th>\n",
              "      <th></th>\n",
              "    </tr>\n",
              "  </thead>\n",
              "  <tbody>\n",
              "    <tr>\n",
              "      <th>1998-01-01</th>\n",
              "      <td>237</td>\n",
              "      <td>179.2</td>\n",
              "      <td>25.7</td>\n",
              "      <td>20.2</td>\n",
              "      <td>28.1</td>\n",
              "    </tr>\n",
              "    <tr>\n",
              "      <th>1998-02-01</th>\n",
              "      <td>331</td>\n",
              "      <td>226.3</td>\n",
              "      <td>25.1</td>\n",
              "      <td>20.0</td>\n",
              "      <td>28.0</td>\n",
              "    </tr>\n",
              "    <tr>\n",
              "      <th>1998-03-01</th>\n",
              "      <td>562</td>\n",
              "      <td>149.1</td>\n",
              "      <td>24.8</td>\n",
              "      <td>22.4</td>\n",
              "      <td>27.2</td>\n",
              "    </tr>\n",
              "    <tr>\n",
              "      <th>1998-04-01</th>\n",
              "      <td>187</td>\n",
              "      <td>46.4</td>\n",
              "      <td>22.7</td>\n",
              "      <td>18.1</td>\n",
              "      <td>26.0</td>\n",
              "    </tr>\n",
              "    <tr>\n",
              "      <th>1998-05-01</th>\n",
              "      <td>32</td>\n",
              "      <td>88.3</td>\n",
              "      <td>19.2</td>\n",
              "      <td>15.7</td>\n",
              "      <td>22.9</td>\n",
              "    </tr>\n",
              "  </tbody>\n",
              "</table>\n",
              "</div>"
            ],
            "text/plain": [
              "            casos-confirmados  chuva  ...  temperatura-mininima  temperatura-maxima\n",
              "data                                  ...                                          \n",
              "1998-01-01                237  179.2  ...                  20.2                28.1\n",
              "1998-02-01                331  226.3  ...                  20.0                28.0\n",
              "1998-03-01                562  149.1  ...                  22.4                27.2\n",
              "1998-04-01                187   46.4  ...                  18.1                26.0\n",
              "1998-05-01                 32   88.3  ...                  15.7                22.9\n",
              "\n",
              "[5 rows x 5 columns]"
            ]
          },
          "metadata": {
            "tags": []
          },
          "execution_count": 1
        }
      ]
    },
    {
      "cell_type": "code",
      "metadata": {
        "colab": {
          "base_uri": "https://localhost:8080/",
          "height": 441
        },
        "id": "6w1R5-2V4Yrg",
        "outputId": "44e1ee2a-482f-41f0-d791-9dc841969cdc"
      },
      "source": [
        "fig, ax = plt.subplots(figsize=(10,6))\n",
        "\n",
        "df.loc[\"1999-01-01\":\"2001-01-01\", [\"temperatura-mininima\", \"temperatura-media\", \"temperatura-maxima\"]].plot(kind=\"area\", ax=ax, cmap=\"Blues\", alpha=0.4)\n",
        "\n",
        "\n",
        "plt.tight_layout();"
      ],
      "execution_count": 2,
      "outputs": [
        {
          "output_type": "display_data",
          "data": {
            "image/png": "[encoded data removed]",
            "text/plain": [
              "<Figure size 720x432 with 1 Axes>"
            ]
          },
          "metadata": {
            "tags": [],
            "needs_background": "light"
          }
        }
      ]
    },
    {
      "cell_type": "code",
      "metadata": {
        "colab": {
          "base_uri": "https://localhost:8080/",
          "height": 434
        },
        "id": "KcTJD63c4eg8",
        "outputId": "cf865973-8b8d-4de5-a93a-4cf1be087c65"
      },
      "source": [
        "df_norm = (df - df.mean()) / df.std()\n",
        "df_norm"
      ],
      "execution_count": 3,
      "outputs": [
        {
          "output_type": "execute_result",
          "data": {
            "text/html": [
              "<div>\n",
              "<style scoped>\n",
              "    .dataframe tbody tr th:only-of-type {\n",
              "        vertical-align: middle;\n",
              "    }\n",
              "\n",
              "    .dataframe tbody tr th {\n",
              "        vertical-align: top;\n",
              "    }\n",
              "\n",
              "    .dataframe thead th {\n",
              "        text-align: right;\n",
              "    }\n",
              "</style>\n",
              "<table border=\"1\" class=\"dataframe\">\n",
              "  <thead>\n",
              "    <tr style=\"text-align: right;\">\n",
              "      <th></th>\n",
              "      <th>casos-confirmados</th>\n",
              "      <th>chuva</th>\n",
              "      <th>temperatura-media</th>\n",
              "      <th>temperatura-mininima</th>\n",
              "      <th>temperatura-maxima</th>\n",
              "    </tr>\n",
              "    <tr>\n",
              "      <th>data</th>\n",
              "      <th></th>\n",
              "      <th></th>\n",
              "      <th></th>\n",
              "      <th></th>\n",
              "      <th></th>\n",
              "    </tr>\n",
              "  </thead>\n",
              "  <tbody>\n",
              "    <tr>\n",
              "      <th>1998-01-01</th>\n",
              "      <td>-0.069203</td>\n",
              "      <td>0.647304</td>\n",
              "      <td>1.458312</td>\n",
              "      <td>0.755501</td>\n",
              "      <td>1.126648</td>\n",
              "    </tr>\n",
              "    <tr>\n",
              "      <th>1998-02-01</th>\n",
              "      <td>-0.015237</td>\n",
              "      <td>1.134722</td>\n",
              "      <td>1.208245</td>\n",
              "      <td>0.695554</td>\n",
              "      <td>1.082201</td>\n",
              "    </tr>\n",
              "    <tr>\n",
              "      <th>1998-03-01</th>\n",
              "      <td>0.117384</td>\n",
              "      <td>0.335811</td>\n",
              "      <td>1.083212</td>\n",
              "      <td>1.414911</td>\n",
              "      <td>0.726624</td>\n",
              "    </tr>\n",
              "    <tr>\n",
              "      <th>1998-04-01</th>\n",
              "      <td>-0.097909</td>\n",
              "      <td>-0.726988</td>\n",
              "      <td>0.207980</td>\n",
              "      <td>0.126064</td>\n",
              "      <td>0.193258</td>\n",
              "    </tr>\n",
              "    <tr>\n",
              "      <th>1998-05-01</th>\n",
              "      <td>-0.186897</td>\n",
              "      <td>-0.293382</td>\n",
              "      <td>-1.250740</td>\n",
              "      <td>-0.593293</td>\n",
              "      <td>-1.184603</td>\n",
              "    </tr>\n",
              "    <tr>\n",
              "      <th>...</th>\n",
              "      <td>...</td>\n",
              "      <td>...</td>\n",
              "      <td>...</td>\n",
              "      <td>...</td>\n",
              "      <td>...</td>\n",
              "    </tr>\n",
              "    <tr>\n",
              "      <th>2014-08-01</th>\n",
              "      <td>-0.173692</td>\n",
              "      <td>-1.080909</td>\n",
              "      <td>-0.667252</td>\n",
              "      <td>-1.372595</td>\n",
              "      <td>-0.384555</td>\n",
              "    </tr>\n",
              "    <tr>\n",
              "      <th>2014-09-01</th>\n",
              "      <td>-0.182304</td>\n",
              "      <td>-0.491040</td>\n",
              "      <td>0.333013</td>\n",
              "      <td>0.275930</td>\n",
              "      <td>0.548835</td>\n",
              "    </tr>\n",
              "    <tr>\n",
              "      <th>2014-10-01</th>\n",
              "      <td>-0.182304</td>\n",
              "      <td>-1.045724</td>\n",
              "      <td>1.041534</td>\n",
              "      <td>-0.143695</td>\n",
              "      <td>1.971143</td>\n",
              "    </tr>\n",
              "    <tr>\n",
              "      <th>2014-11-01</th>\n",
              "      <td>-0.172544</td>\n",
              "      <td>0.394798</td>\n",
              "      <td>1.166568</td>\n",
              "      <td>1.324991</td>\n",
              "      <td>1.215542</td>\n",
              "    </tr>\n",
              "    <tr>\n",
              "      <th>2014-12-01</th>\n",
              "      <td>-0.184026</td>\n",
              "      <td>1.201988</td>\n",
              "      <td>1.124890</td>\n",
              "      <td>1.085206</td>\n",
              "      <td>0.993306</td>\n",
              "    </tr>\n",
              "  </tbody>\n",
              "</table>\n",
              "<p>204 rows × 5 columns</p>\n",
              "</div>"
            ],
            "text/plain": [
              "            casos-confirmados  ...  temperatura-maxima\n",
              "data                           ...                    \n",
              "1998-01-01          -0.069203  ...            1.126648\n",
              "1998-02-01          -0.015237  ...            1.082201\n",
              "1998-03-01           0.117384  ...            0.726624\n",
              "1998-04-01          -0.097909  ...            0.193258\n",
              "1998-05-01          -0.186897  ...           -1.184603\n",
              "...                       ...  ...                 ...\n",
              "2014-08-01          -0.173692  ...           -0.384555\n",
              "2014-09-01          -0.182304  ...            0.548835\n",
              "2014-10-01          -0.182304  ...            1.971143\n",
              "2014-11-01          -0.172544  ...            1.215542\n",
              "2014-12-01          -0.184026  ...            0.993306\n",
              "\n",
              "[204 rows x 5 columns]"
            ]
          },
          "metadata": {
            "tags": []
          },
          "execution_count": 3
        }
      ]
    },
    {
      "cell_type": "code",
      "metadata": {
        "id": "aAuVX8O5IOxJ"
      },
      "source": [
        ""
      ],
      "execution_count": 3,
      "outputs": []
    }
  ]
}