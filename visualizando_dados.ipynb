{
  "nbformat": 4,
  "nbformat_minor": 0,
  "metadata": {
    "colab": {
      "name": "visualizando-dados",
      "provenance": [],
      "authorship_tag": "ABX9TyO6ydH/F2fUCPT0jKD4P7OH",
      "include_colab_link": true
    },
    "kernelspec": {
      "name": "python3",
      "display_name": "Python 3"
    },
    "language_info": {
      "name": "python"
    }
  },
  "cells": [
    {
      "cell_type": "markdown",
      "metadata": {
        "id": "view-in-github",
        "colab_type": "text"
      },
      "source": [
        "<a href=\"https://colab.research.google.com/github/feliperromao/datascience-na-pratica/blob/main/visualizando_dados.ipynb\" target=\"_parent\"><img src=\"https://colab.research.google.com/assets/colab-badge.svg\" alt=\"Open In Colab\"/></a>"
      ]
    },
    {
      "cell_type": "code",
      "metadata": {
        "id": "vHR_mwSW2St7"
      },
      "source": [
        "import pandas as pd"
      ],
      "execution_count": 1,
      "outputs": []
    },
    {
      "cell_type": "code",
      "metadata": {
        "id": "zYBmdXrV2aKx"
      },
      "source": [
        "## Importa o dataframe e converte as datas\n",
        "## Alter o indice pra ser uma coluna de data\n",
        "\n",
        "df = pd.read_csv(\"https://raw.githubusercontent.com/carlosfab/curso_data_science_na_pratica/master/modulo_02/BBAS3.SA.csv\", parse_dates=True, index_col='Date')"
      ],
      "execution_count": 3,
      "outputs": []
    },
    {
      "cell_type": "code",
      "metadata": {
        "colab": {
          "base_uri": "https://localhost:8080/",
          "height": 225
        },
        "id": "PCQqioBq20Qv",
        "outputId": "7ba1e13a-cd31-4010-bb97-429c64920129"
      },
      "source": [
        "df.head()"
      ],
      "execution_count": 4,
      "outputs": [
        {
          "output_type": "execute_result",
          "data": {
            "text/html": [
              "<div>\n",
              "<style scoped>\n",
              "    .dataframe tbody tr th:only-of-type {\n",
              "        vertical-align: middle;\n",
              "    }\n",
              "\n",
              "    .dataframe tbody tr th {\n",
              "        vertical-align: top;\n",
              "    }\n",
              "\n",
              "    .dataframe thead th {\n",
              "        text-align: right;\n",
              "    }\n",
              "</style>\n",
              "<table border=\"1\" class=\"dataframe\">\n",
              "  <thead>\n",
              "    <tr style=\"text-align: right;\">\n",
              "      <th></th>\n",
              "      <th>Open</th>\n",
              "      <th>High</th>\n",
              "      <th>Low</th>\n",
              "      <th>Close</th>\n",
              "      <th>Adj Close</th>\n",
              "      <th>Volume</th>\n",
              "    </tr>\n",
              "    <tr>\n",
              "      <th>Date</th>\n",
              "      <th></th>\n",
              "      <th></th>\n",
              "      <th></th>\n",
              "      <th></th>\n",
              "      <th></th>\n",
              "      <th></th>\n",
              "    </tr>\n",
              "  </thead>\n",
              "  <tbody>\n",
              "    <tr>\n",
              "      <th>2018-09-21</th>\n",
              "      <td>29.730000</td>\n",
              "      <td>30.580000</td>\n",
              "      <td>29.340000</td>\n",
              "      <td>30.580000</td>\n",
              "      <td>28.680056</td>\n",
              "      <td>16301600</td>\n",
              "    </tr>\n",
              "    <tr>\n",
              "      <th>2018-09-24</th>\n",
              "      <td>30.379999</td>\n",
              "      <td>30.700001</td>\n",
              "      <td>29.500000</td>\n",
              "      <td>29.730000</td>\n",
              "      <td>27.882866</td>\n",
              "      <td>13086900</td>\n",
              "    </tr>\n",
              "    <tr>\n",
              "      <th>2018-09-25</th>\n",
              "      <td>29.030001</td>\n",
              "      <td>29.760000</td>\n",
              "      <td>28.809999</td>\n",
              "      <td>29.549999</td>\n",
              "      <td>27.714045</td>\n",
              "      <td>11742900</td>\n",
              "    </tr>\n",
              "    <tr>\n",
              "      <th>2018-09-26</th>\n",
              "      <td>29.650000</td>\n",
              "      <td>29.969999</td>\n",
              "      <td>29.209999</td>\n",
              "      <td>29.450001</td>\n",
              "      <td>27.620264</td>\n",
              "      <td>12842400</td>\n",
              "    </tr>\n",
              "    <tr>\n",
              "      <th>2018-09-27</th>\n",
              "      <td>29.680000</td>\n",
              "      <td>30.299999</td>\n",
              "      <td>29.680000</td>\n",
              "      <td>30.290001</td>\n",
              "      <td>28.408072</td>\n",
              "      <td>8767900</td>\n",
              "    </tr>\n",
              "  </tbody>\n",
              "</table>\n",
              "</div>"
            ],
            "text/plain": [
              "                 Open       High        Low      Close  Adj Close    Volume\n",
              "Date                                                                       \n",
              "2018-09-21  29.730000  30.580000  29.340000  30.580000  28.680056  16301600\n",
              "2018-09-24  30.379999  30.700001  29.500000  29.730000  27.882866  13086900\n",
              "2018-09-25  29.030001  29.760000  28.809999  29.549999  27.714045  11742900\n",
              "2018-09-26  29.650000  29.969999  29.209999  29.450001  27.620264  12842400\n",
              "2018-09-27  29.680000  30.299999  29.680000  30.290001  28.408072   8767900"
            ]
          },
          "metadata": {
            "tags": []
          },
          "execution_count": 4
        }
      ]
    },
    {
      "cell_type": "code",
      "metadata": {
        "colab": {
          "base_uri": "https://localhost:8080/",
          "height": 284
        },
        "id": "IhyfY5U92282",
        "outputId": "303f4347-0a73-4d10-8eb7-6885c21d32b9"
      },
      "source": [
        "df.describe()"
      ],
      "execution_count": 5,
      "outputs": [
        {
          "output_type": "execute_result",
          "data": {
            "text/html": [
              "<div>\n",
              "<style scoped>\n",
              "    .dataframe tbody tr th:only-of-type {\n",
              "        vertical-align: middle;\n",
              "    }\n",
              "\n",
              "    .dataframe tbody tr th {\n",
              "        vertical-align: top;\n",
              "    }\n",
              "\n",
              "    .dataframe thead th {\n",
              "        text-align: right;\n",
              "    }\n",
              "</style>\n",
              "<table border=\"1\" class=\"dataframe\">\n",
              "  <thead>\n",
              "    <tr style=\"text-align: right;\">\n",
              "      <th></th>\n",
              "      <th>Open</th>\n",
              "      <th>High</th>\n",
              "      <th>Low</th>\n",
              "      <th>Close</th>\n",
              "      <th>Adj Close</th>\n",
              "      <th>Volume</th>\n",
              "    </tr>\n",
              "  </thead>\n",
              "  <tbody>\n",
              "    <tr>\n",
              "      <th>count</th>\n",
              "      <td>246.000000</td>\n",
              "      <td>246.000000</td>\n",
              "      <td>246.000000</td>\n",
              "      <td>246.000000</td>\n",
              "      <td>246.000000</td>\n",
              "      <td>2.460000e+02</td>\n",
              "    </tr>\n",
              "    <tr>\n",
              "      <th>mean</th>\n",
              "      <td>47.516301</td>\n",
              "      <td>48.152114</td>\n",
              "      <td>46.810203</td>\n",
              "      <td>47.471992</td>\n",
              "      <td>45.937508</td>\n",
              "      <td>1.192853e+07</td>\n",
              "    </tr>\n",
              "    <tr>\n",
              "      <th>std</th>\n",
              "      <td>5.367639</td>\n",
              "      <td>5.340762</td>\n",
              "      <td>5.334983</td>\n",
              "      <td>5.325277</td>\n",
              "      <td>5.635851</td>\n",
              "      <td>5.101974e+06</td>\n",
              "    </tr>\n",
              "    <tr>\n",
              "      <th>min</th>\n",
              "      <td>29.030001</td>\n",
              "      <td>29.760000</td>\n",
              "      <td>28.200001</td>\n",
              "      <td>28.209999</td>\n",
              "      <td>26.457306</td>\n",
              "      <td>4.950700e+06</td>\n",
              "    </tr>\n",
              "    <tr>\n",
              "      <th>25%</th>\n",
              "      <td>45.032500</td>\n",
              "      <td>45.450001</td>\n",
              "      <td>44.034999</td>\n",
              "      <td>44.752502</td>\n",
              "      <td>42.837990</td>\n",
              "      <td>8.533175e+06</td>\n",
              "    </tr>\n",
              "    <tr>\n",
              "      <th>50%</th>\n",
              "      <td>48.700001</td>\n",
              "      <td>49.270001</td>\n",
              "      <td>47.955000</td>\n",
              "      <td>48.625000</td>\n",
              "      <td>47.217266</td>\n",
              "      <td>1.089165e+07</td>\n",
              "    </tr>\n",
              "    <tr>\n",
              "      <th>75%</th>\n",
              "      <td>51.537499</td>\n",
              "      <td>52.169998</td>\n",
              "      <td>50.749999</td>\n",
              "      <td>51.422500</td>\n",
              "      <td>49.755905</td>\n",
              "      <td>1.377748e+07</td>\n",
              "    </tr>\n",
              "    <tr>\n",
              "      <th>max</th>\n",
              "      <td>55.599998</td>\n",
              "      <td>55.910000</td>\n",
              "      <td>54.820000</td>\n",
              "      <td>55.180000</td>\n",
              "      <td>54.394733</td>\n",
              "      <td>4.193190e+07</td>\n",
              "    </tr>\n",
              "  </tbody>\n",
              "</table>\n",
              "</div>"
            ],
            "text/plain": [
              "             Open        High         Low       Close   Adj Close        Volume\n",
              "count  246.000000  246.000000  246.000000  246.000000  246.000000  2.460000e+02\n",
              "mean    47.516301   48.152114   46.810203   47.471992   45.937508  1.192853e+07\n",
              "std      5.367639    5.340762    5.334983    5.325277    5.635851  5.101974e+06\n",
              "min     29.030001   29.760000   28.200001   28.209999   26.457306  4.950700e+06\n",
              "25%     45.032500   45.450001   44.034999   44.752502   42.837990  8.533175e+06\n",
              "50%     48.700001   49.270001   47.955000   48.625000   47.217266  1.089165e+07\n",
              "75%     51.537499   52.169998   50.749999   51.422500   49.755905  1.377748e+07\n",
              "max     55.599998   55.910000   54.820000   55.180000   54.394733  4.193190e+07"
            ]
          },
          "metadata": {
            "tags": []
          },
          "execution_count": 5
        }
      ]
    },
    {
      "cell_type": "code",
      "metadata": {
        "colab": {
          "base_uri": "https://localhost:8080/"
        },
        "id": "PkMYbfeU3ANO",
        "outputId": "2e860dc2-95e7-4c13-969c-94be00578156"
      },
      "source": [
        "df.index"
      ],
      "execution_count": 7,
      "outputs": [
        {
          "output_type": "execute_result",
          "data": {
            "text/plain": [
              "DatetimeIndex(['2018-09-21', '2018-09-24', '2018-09-25', '2018-09-26',\n",
              "               '2018-09-27', '2018-09-28', '2018-10-01', '2018-10-02',\n",
              "               '2018-10-03', '2018-10-04',\n",
              "               ...\n",
              "               '2019-09-09', '2019-09-10', '2019-09-11', '2019-09-12',\n",
              "               '2019-09-13', '2019-09-16', '2019-09-17', '2019-09-18',\n",
              "               '2019-09-19', '2019-09-20'],\n",
              "              dtype='datetime64[ns]', name='Date', length=246, freq=None)"
            ]
          },
          "metadata": {
            "tags": []
          },
          "execution_count": 7
        }
      ]
    },
    {
      "cell_type": "markdown",
      "metadata": {
        "id": "FZv0nCYl5n6u"
      },
      "source": [
        "## Gráfico de linhas"
      ]
    },
    {
      "cell_type": "code",
      "metadata": {
        "colab": {
          "base_uri": "https://localhost:8080/",
          "height": 277
        },
        "id": "_VG_rAD93C_G",
        "outputId": "f8c5e02f-a4ee-4659-cc78-4ae90cba3b18"
      },
      "source": [
        "df['High'].plot();"
      ],
      "execution_count": 11,
      "outputs": [
        {
          "output_type": "display_data",
          "data": {
            "image/png": "[encoded data removed]",
            "text/plain": [
              "<Figure size 432x288 with 1 Axes>"
            ]
          },
          "metadata": {
            "tags": [],
            "needs_background": "light"
          }
        }
      ]
    },
    {
      "cell_type": "code",
      "metadata": {
        "colab": {
          "base_uri": "https://localhost:8080/",
          "height": 277
        },
        "id": "3u8la2jp3hsW",
        "outputId": "1b5e5e47-f748-418a-e738-1deded8b46c1"
      },
      "source": [
        "df['Low'].plot();"
      ],
      "execution_count": 12,
      "outputs": [
        {
          "output_type": "display_data",
          "data": {
            "image/png": "[encoded data removed]",
            "text/plain": [
              "<Figure size 432x288 with 1 Axes>"
            ]
          },
          "metadata": {
            "tags": [],
            "needs_background": "light"
          }
        }
      ]
    },
    {
      "cell_type": "markdown",
      "metadata": {
        "id": "kl0UW-6T52K9"
      },
      "source": [
        "## Histograma"
      ]
    },
    {
      "cell_type": "code",
      "metadata": {
        "colab": {
          "base_uri": "https://localhost:8080/",
          "height": 278
        },
        "id": "u-qOuMeZ3kj2",
        "outputId": "0c288d41-6d8d-4ffc-8cd2-01c3110409c4"
      },
      "source": [
        "df['Volume'].hist();"
      ],
      "execution_count": 14,
      "outputs": [
        {
          "output_type": "display_data",
          "data": {
            "image/png": "[encoded data removed]",
            "text/plain": [
              "<Figure size 432x288 with 1 Axes>"
            ]
          },
          "metadata": {
            "tags": [],
            "needs_background": "light"
          }
        }
      ]
    },
    {
      "cell_type": "markdown",
      "metadata": {
        "id": "yFfMIl1L54SU"
      },
      "source": [
        "## Gráfico de Dispersão (*Scatter Plot*)"
      ]
    },
    {
      "cell_type": "code",
      "metadata": {
        "colab": {
          "base_uri": "https://localhost:8080/",
          "height": 279
        },
        "id": "0LifxvIF3mnO",
        "outputId": "c0d56f26-e98d-47f6-b90a-f7063ab2ddc3"
      },
      "source": [
        "df.plot.scatter('Low', 'High');"
      ],
      "execution_count": 16,
      "outputs": [
        {
          "output_type": "display_data",
          "data": {
            "image/png": "[encoded data removed]",
            "text/plain": [
              "<Figure size 432x288 with 1 Axes>"
            ]
          },
          "metadata": {
            "tags": [],
            "needs_background": "light"
          }
        }
      ]
    },
    {
      "cell_type": "markdown",
      "metadata": {
        "id": "9Hn2wn2L5-WN"
      },
      "source": [
        "## Boxplot"
      ]
    },
    {
      "cell_type": "code",
      "metadata": {
        "colab": {
          "base_uri": "https://localhost:8080/",
          "height": 265
        },
        "id": "EhoBwJ0g4lS9",
        "outputId": "4dbe48d0-2e7a-4e91-e1fe-c3b2a3ad19d5"
      },
      "source": [
        "df['High'].plot(kind='box');"
      ],
      "execution_count": 18,
      "outputs": [
        {
          "output_type": "display_data",
          "data": {
            "image/png": "[encoded data removed]",
            "text/plain": [
              "<Figure size 432x288 with 1 Axes>"
            ]
          },
          "metadata": {
            "tags": [],
            "needs_background": "light"
          }
        }
      ]
    },
    {
      "cell_type": "code",
      "metadata": {
        "id": "0F6-lYZC5Myk"
      },
      "source": [
        ""
      ],
      "execution_count": null,
      "outputs": []
    }
  ]
}