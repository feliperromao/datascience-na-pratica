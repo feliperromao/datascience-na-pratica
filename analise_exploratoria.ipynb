{
  "nbformat": 4,
  "nbformat_minor": 0,
  "metadata": {
    "colab": {
      "name": "analise-exploratoria",
      "provenance": [],
      "authorship_tag": "ABX9TyN/SLqfZTt3uZNC6c6nrZmQ",
      "include_colab_link": true
    },
    "kernelspec": {
      "name": "python3",
      "display_name": "Python 3"
    },
    "language_info": {
      "name": "python"
    }
  },
  "cells": [
    {
      "cell_type": "markdown",
      "metadata": {
        "id": "view-in-github",
        "colab_type": "text"
      },
      "source": [
        "<a href=\"https://colab.research.google.com/github/feliperromao/datascience-na-pratica/blob/main/analise_exploratoria.ipynb\" target=\"_parent\"><img src=\"https://colab.research.google.com/assets/colab-badge.svg\" alt=\"Open In Colab\"/></a>"
      ]
    },
    {
      "cell_type": "code",
      "metadata": {
        "id": "yO1j8uJg7pmh"
      },
      "source": [
        "import pandas as pd"
      ],
      "execution_count": 4,
      "outputs": []
    },
    {
      "cell_type": "code",
      "metadata": {
        "colab": {
          "base_uri": "https://localhost:8080/",
          "height": 362
        },
        "id": "Y6fafv3n7r59",
        "outputId": "43f5c1bf-c809-4892-cd3d-e83f9bdd74de"
      },
      "source": [
        "df = pd.read_csv(\"https://raw.githubusercontent.com/carlosfab/dsnp2/master/datasets/ocorrencias_aviacao.csv\", index_col=\"codigo_ocorrencia\")\n",
        "df.head()"
      ],
      "execution_count": 7,
      "outputs": [
        {
          "output_type": "execute_result",
          "data": {
            "text/html": [
              "<div>\n",
              "<style scoped>\n",
              "    .dataframe tbody tr th:only-of-type {\n",
              "        vertical-align: middle;\n",
              "    }\n",
              "\n",
              "    .dataframe tbody tr th {\n",
              "        vertical-align: top;\n",
              "    }\n",
              "\n",
              "    .dataframe thead th {\n",
              "        text-align: right;\n",
              "    }\n",
              "</style>\n",
              "<table border=\"1\" class=\"dataframe\">\n",
              "  <thead>\n",
              "    <tr style=\"text-align: right;\">\n",
              "      <th></th>\n",
              "      <th>ocorrencia_classificacao</th>\n",
              "      <th>ocorrencia_tipo</th>\n",
              "      <th>ocorrencia_tipo_categoria</th>\n",
              "      <th>ocorrencia_tipo_icao</th>\n",
              "      <th>ocorrencia_latitude</th>\n",
              "      <th>ocorrencia_longitude</th>\n",
              "      <th>ocorrencia_cidade</th>\n",
              "      <th>ocorrencia_uf</th>\n",
              "      <th>ocorrencia_pais</th>\n",
              "      <th>ocorrencia_aerodromo</th>\n",
              "      <th>ocorrencia_dia</th>\n",
              "      <th>ocorrencia_horario</th>\n",
              "      <th>investigacao_aeronave_liberada</th>\n",
              "      <th>investigacao_status</th>\n",
              "      <th>divulgacao_relatorio_numero</th>\n",
              "      <th>divulgacao_relatorio_publicado</th>\n",
              "      <th>divulgacao_dia_publicacao</th>\n",
              "      <th>total_recomendacoes</th>\n",
              "      <th>total_aeronaves_envolvidas</th>\n",
              "      <th>ocorrencia_saida_pista</th>\n",
              "      <th>ocorrencia_dia_extracao</th>\n",
              "    </tr>\n",
              "    <tr>\n",
              "      <th>codigo_ocorrencia</th>\n",
              "      <th></th>\n",
              "      <th></th>\n",
              "      <th></th>\n",
              "      <th></th>\n",
              "      <th></th>\n",
              "      <th></th>\n",
              "      <th></th>\n",
              "      <th></th>\n",
              "      <th></th>\n",
              "      <th></th>\n",
              "      <th></th>\n",
              "      <th></th>\n",
              "      <th></th>\n",
              "      <th></th>\n",
              "      <th></th>\n",
              "      <th></th>\n",
              "      <th></th>\n",
              "      <th></th>\n",
              "      <th></th>\n",
              "      <th></th>\n",
              "      <th></th>\n",
              "    </tr>\n",
              "  </thead>\n",
              "  <tbody>\n",
              "    <tr>\n",
              "      <th>201305055424986</th>\n",
              "      <td>ACIDENTE</td>\n",
              "      <td>FALHA DO MOTOR EM VOO</td>\n",
              "      <td>FALHA OU MAU FUNCIONAMENTO DO MOTOR</td>\n",
              "      <td>SCF-PP</td>\n",
              "      <td>-9.9085</td>\n",
              "      <td>-63.0333</td>\n",
              "      <td>ARIQUEMES</td>\n",
              "      <td>RO</td>\n",
              "      <td>BRASIL</td>\n",
              "      <td>SJOG</td>\n",
              "      <td>2013-05-05</td>\n",
              "      <td>11:00:00</td>\n",
              "      <td>NaN</td>\n",
              "      <td>FINALIZADA</td>\n",
              "      <td>***</td>\n",
              "      <td>NÃO</td>\n",
              "      <td>NaN</td>\n",
              "      <td>0</td>\n",
              "      <td>1</td>\n",
              "      <td>NÃO</td>\n",
              "      <td>2018-08-28</td>\n",
              "    </tr>\n",
              "    <tr>\n",
              "      <th>201605160250139</th>\n",
              "      <td>INCIDENTE GRAVE</td>\n",
              "      <td>COLISÃO COM OBSTÁCULO DURANTE A DECOLAGEM E POUSO</td>\n",
              "      <td>COLISÃO COM OBSTÁCULO DURANTE A DECOLAGEM E POUSO</td>\n",
              "      <td>CTOL</td>\n",
              "      <td>-11.2644</td>\n",
              "      <td>-61.2589</td>\n",
              "      <td>CACOAL</td>\n",
              "      <td>RO</td>\n",
              "      <td>BRASIL</td>\n",
              "      <td>SSKW</td>\n",
              "      <td>2016-05-13</td>\n",
              "      <td>19:19:00</td>\n",
              "      <td>SIM</td>\n",
              "      <td>ATIVA</td>\n",
              "      <td>IG-084/CENIPA/2016</td>\n",
              "      <td>NÃO</td>\n",
              "      <td>NaN</td>\n",
              "      <td>0</td>\n",
              "      <td>1</td>\n",
              "      <td>NÃO</td>\n",
              "      <td>2018-08-28</td>\n",
              "    </tr>\n",
              "    <tr>\n",
              "      <th>201805021421302</th>\n",
              "      <td>INCIDENTE</td>\n",
              "      <td>AERÓDROMO</td>\n",
              "      <td>AERÓDROMO</td>\n",
              "      <td>ADRM</td>\n",
              "      <td>-11.4956</td>\n",
              "      <td>-61.4508</td>\n",
              "      <td>CACOAL</td>\n",
              "      <td>RO</td>\n",
              "      <td>BRASIL</td>\n",
              "      <td>SSKW</td>\n",
              "      <td>2018-03-09</td>\n",
              "      <td>22:40:00</td>\n",
              "      <td>SIM</td>\n",
              "      <td>FINALIZADA</td>\n",
              "      <td>***</td>\n",
              "      <td>NÃO</td>\n",
              "      <td>NaN</td>\n",
              "      <td>0</td>\n",
              "      <td>1</td>\n",
              "      <td>NÃO</td>\n",
              "      <td>2018-08-28</td>\n",
              "    </tr>\n",
              "    <tr>\n",
              "      <th>201311259977425</th>\n",
              "      <td>INCIDENTE GRAVE</td>\n",
              "      <td>POUSO SEM TREM</td>\n",
              "      <td>CONTATO ANORMAL COM A PISTA</td>\n",
              "      <td>ARC</td>\n",
              "      <td>-11.4956</td>\n",
              "      <td>-61.4508</td>\n",
              "      <td>CACOAL</td>\n",
              "      <td>RO</td>\n",
              "      <td>BRASIL</td>\n",
              "      <td>SSKW</td>\n",
              "      <td>2013-11-25</td>\n",
              "      <td>12:32:00</td>\n",
              "      <td>NaN</td>\n",
              "      <td>FINALIZADA</td>\n",
              "      <td>IG-209/CENIPA/2013</td>\n",
              "      <td>SIM</td>\n",
              "      <td>2014-04-07</td>\n",
              "      <td>0</td>\n",
              "      <td>1</td>\n",
              "      <td>NÃO</td>\n",
              "      <td>2018-08-28</td>\n",
              "    </tr>\n",
              "    <tr>\n",
              "      <th>201103187273112</th>\n",
              "      <td>INCIDENTE</td>\n",
              "      <td>OUTROS</td>\n",
              "      <td>OUTROS</td>\n",
              "      <td>OTHR</td>\n",
              "      <td>-13.1950</td>\n",
              "      <td>-60.8184</td>\n",
              "      <td>CEREJEIRAS</td>\n",
              "      <td>RO</td>\n",
              "      <td>BRASIL</td>\n",
              "      <td>****</td>\n",
              "      <td>2011-03-18</td>\n",
              "      <td>13:30:00</td>\n",
              "      <td>NaN</td>\n",
              "      <td>FINALIZADA</td>\n",
              "      <td>***</td>\n",
              "      <td>NÃO</td>\n",
              "      <td>NaN</td>\n",
              "      <td>0</td>\n",
              "      <td>1</td>\n",
              "      <td>NÃO</td>\n",
              "      <td>2018-08-28</td>\n",
              "    </tr>\n",
              "  </tbody>\n",
              "</table>\n",
              "</div>"
            ],
            "text/plain": [
              "                  ocorrencia_classificacao  ... ocorrencia_dia_extracao\n",
              "codigo_ocorrencia                           ...                        \n",
              "201305055424986                   ACIDENTE  ...              2018-08-28\n",
              "201605160250139            INCIDENTE GRAVE  ...              2018-08-28\n",
              "201805021421302                  INCIDENTE  ...              2018-08-28\n",
              "201311259977425            INCIDENTE GRAVE  ...              2018-08-28\n",
              "201103187273112                  INCIDENTE  ...              2018-08-28\n",
              "\n",
              "[5 rows x 21 columns]"
            ]
          },
          "metadata": {
            "tags": []
          },
          "execution_count": 7
        }
      ]
    },
    {
      "cell_type": "code",
      "metadata": {
        "colab": {
          "base_uri": "https://localhost:8080/"
        },
        "id": "TNjlv_fc77eh",
        "outputId": "5b529529-2d18-4bab-9267-9c4f3f33dd2c"
      },
      "source": [
        "df.info()"
      ],
      "execution_count": 10,
      "outputs": [
        {
          "output_type": "stream",
          "text": [
            "<class 'pandas.core.frame.DataFrame'>\n",
            "Int64Index: 5208 entries, 201305055424986 to 201309012098180\n",
            "Data columns (total 21 columns):\n",
            " #   Column                          Non-Null Count  Dtype  \n",
            "---  ------                          --------------  -----  \n",
            " 0   ocorrencia_classificacao        5208 non-null   object \n",
            " 1   ocorrencia_tipo                 5208 non-null   object \n",
            " 2   ocorrencia_tipo_categoria       5208 non-null   object \n",
            " 3   ocorrencia_tipo_icao            5208 non-null   object \n",
            " 4   ocorrencia_latitude             5208 non-null   float64\n",
            " 5   ocorrencia_longitude            5208 non-null   float64\n",
            " 6   ocorrencia_cidade               5208 non-null   object \n",
            " 7   ocorrencia_uf                   5208 non-null   object \n",
            " 8   ocorrencia_pais                 5208 non-null   object \n",
            " 9   ocorrencia_aerodromo            5208 non-null   object \n",
            " 10  ocorrencia_dia                  5208 non-null   object \n",
            " 11  ocorrencia_horario              5208 non-null   object \n",
            " 12  investigacao_aeronave_liberada  1110 non-null   object \n",
            " 13  investigacao_status             5208 non-null   object \n",
            " 14  divulgacao_relatorio_numero     5208 non-null   object \n",
            " 15  divulgacao_relatorio_publicado  5208 non-null   object \n",
            " 16  divulgacao_dia_publicacao       1261 non-null   object \n",
            " 17  total_recomendacoes             5208 non-null   int64  \n",
            " 18  total_aeronaves_envolvidas      5208 non-null   int64  \n",
            " 19  ocorrencia_saida_pista          5208 non-null   object \n",
            " 20  ocorrencia_dia_extracao         5208 non-null   object \n",
            "dtypes: float64(2), int64(2), object(17)\n",
            "memory usage: 895.1+ KB\n"
          ],
          "name": "stdout"
        }
      ]
    },
    {
      "cell_type": "code",
      "metadata": {
        "colab": {
          "base_uri": "https://localhost:8080/"
        },
        "id": "z0aBaSLy8Xap",
        "outputId": "b9ca2a43-67eb-4468-a3c4-ec7d433c815f"
      },
      "source": [
        "df.dtypes"
      ],
      "execution_count": 11,
      "outputs": [
        {
          "output_type": "execute_result",
          "data": {
            "text/plain": [
              "ocorrencia_classificacao           object\n",
              "ocorrencia_tipo                    object\n",
              "ocorrencia_tipo_categoria          object\n",
              "ocorrencia_tipo_icao               object\n",
              "ocorrencia_latitude               float64\n",
              "ocorrencia_longitude              float64\n",
              "ocorrencia_cidade                  object\n",
              "ocorrencia_uf                      object\n",
              "ocorrencia_pais                    object\n",
              "ocorrencia_aerodromo               object\n",
              "ocorrencia_dia                     object\n",
              "ocorrencia_horario                 object\n",
              "investigacao_aeronave_liberada     object\n",
              "investigacao_status                object\n",
              "divulgacao_relatorio_numero        object\n",
              "divulgacao_relatorio_publicado     object\n",
              "divulgacao_dia_publicacao          object\n",
              "total_recomendacoes                 int64\n",
              "total_aeronaves_envolvidas          int64\n",
              "ocorrencia_saida_pista             object\n",
              "ocorrencia_dia_extracao            object\n",
              "dtype: object"
            ]
          },
          "metadata": {
            "tags": []
          },
          "execution_count": 11
        }
      ]
    },
    {
      "cell_type": "code",
      "metadata": {
        "colab": {
          "base_uri": "https://localhost:8080/"
        },
        "id": "qGpoVF098y8Z",
        "outputId": "f9b8ae7c-82d5-4d46-9717-b71db814710f"
      },
      "source": [
        "df[\"ocorrencia_tipo\"].unique()"
      ],
      "execution_count": 16,
      "outputs": [
        {
          "output_type": "execute_result",
          "data": {
            "text/plain": [
              "array(['FALHA DO MOTOR EM VOO',\n",
              "       'COLISÃO COM OBSTÁCULO DURANTE A DECOLAGEM E POUSO', 'AERÓDROMO',\n",
              "       'POUSO SEM TREM', 'OUTROS', 'PERDA DE CONTROLE NO SOLO',\n",
              "       'POUSO LONGO', 'TRÁFEGO AÉREO', 'PERDA DE CONTROLE EM VOO',\n",
              "       'COM TREM DE POUSO', 'INDETERMINADO', 'ESTOURO DE PNEU',\n",
              "       'VOO CONTROLADO CONTRA O TERRENO', 'EXCURSÃO DE PISTA',\n",
              "       'POUSO BRUSCO', 'CAUSADO POR FENÔMENO METEOROLÓGICO EM VOO',\n",
              "       'INCURSÃO EM PISTA', 'VAZAMENTO DE OUTROS FLUIDOS', 'COM ROTOR',\n",
              "       'FALHA OU MAU FUNCIONAMENTO DE SISTEMA / COMPONENTE ',\n",
              "       'PERDA DE COMPONENTE EM VOO', 'SOPRO DE REATOR',\n",
              "       'COM PARA-BRISAS / JANELA / PORTA', 'COM LANÇAMENTO DE CARGA',\n",
              "       'POUSO ANTES DA PISTA', 'F.O.D.', 'PROBLEMAS FISIOLÓGICOS',\n",
              "       'DESCOMPRESSÃO NÃO INTENCIONAL / EXPLOSIVA',\n",
              "       'COLISÃO DE VEÍCULO COM AERONAVE', 'FOGO NO SOLO', 'FOGO EM VOO',\n",
              "       'CAUSADO POR FENÔMENO METEOROLÓGICO NO SOLO', 'COM PESSOAL EM VOO',\n",
              "       'COLISÃO DE AERONAVES EM VOO', 'FUMAÇA NA CABINE',\n",
              "       'COLISÃO COM OBSTÁCULOS NO SOLO', 'PERDA DE COMPONENTE NO SOLO',\n",
              "       'SOPRO DE ROTOR', 'FALHA DO MOTOR NO SOLO', 'SUPERAQUECIMENTO',\n",
              "       'COM COMANDOS DE VOO', 'FALHA ESTRUTURAL',\n",
              "       'POUSO EM LOCAL NÃO PREVISTO', 'DESORIENTAÇÃO ESPACIAL',\n",
              "       'VAZAMENTO DE COMBUSTÍVEL', 'PANE SECA',\n",
              "       'COLISÃO COM AERONAVE NO SOLO', 'CORTE INVOLUNTÁRIO DO MOTOR',\n",
              "       'TURBULÊNCIA', 'OPERAÇÃO A BAIXA ALTITUDE', 'COM HÉLICE',\n",
              "       'COM LANÇAMENTO DE PESSOAS', 'COLISÃO EM VOO COM OBJETO REBOCADO',\n",
              "       'AERONAVE ATINGIDA POR OBJETO',\n",
              "       'FALHA OU MAU FUNCIONAMENTO DO MOTOR',\n",
              "       'CONTATO ANORMAL COM A PISTA ', 'CORTANTE DE VENTO / TEMPESTADE',\n",
              "       'OPERAÇÕES NO SOLO', 'CAUSADO POR RICOCHETE',\n",
              "       'RELACIONADO COM SECURITY', 'PERDA DA CONSCIÊNCIA',\n",
              "       'ALARME FALSO DE FOGO OU DE SUPERAQUECIMENTO', 'MANOBRA ABRUPTA'],\n",
              "      dtype=object)"
            ]
          },
          "metadata": {
            "tags": []
          },
          "execution_count": 16
        }
      ]
    },
    {
      "cell_type": "code",
      "metadata": {
        "colab": {
          "base_uri": "https://localhost:8080/"
        },
        "id": "LRSdvdqW9rgQ",
        "outputId": "ce446844-9443-4355-dcbb-2ff06b38b6fb"
      },
      "source": [
        "df[\"ocorrencia_tipo\"].value_counts()"
      ],
      "execution_count": 17,
      "outputs": [
        {
          "output_type": "execute_result",
          "data": {
            "text/plain": [
              "FALHA DO MOTOR EM VOO                                  682\n",
              "ESTOURO DE PNEU                                        604\n",
              "FALHA OU MAU FUNCIONAMENTO DE SISTEMA / COMPONENTE     574\n",
              "PERDA DE CONTROLE NO SOLO                              492\n",
              "OUTROS                                                 350\n",
              "                                                      ... \n",
              "ALARME FALSO DE FOGO OU DE SUPERAQUECIMENTO              1\n",
              "RELACIONADO COM SECURITY                                 1\n",
              "CAUSADO POR RICOCHETE                                    1\n",
              "CORTANTE DE VENTO / TEMPESTADE                           1\n",
              "MANOBRA ABRUPTA                                          1\n",
              "Name: ocorrencia_tipo, Length: 63, dtype: int64"
            ]
          },
          "metadata": {
            "tags": []
          },
          "execution_count": 17
        }
      ]
    },
    {
      "cell_type": "code",
      "metadata": {
        "colab": {
          "base_uri": "https://localhost:8080/"
        },
        "id": "CeITBDrR9654",
        "outputId": "cdfd6e19-b830-4c4e-e00c-e65705b599aa"
      },
      "source": [
        "df[\"ocorrencia_tipo\"].value_counts(normalize=True) * 100"
      ],
      "execution_count": 19,
      "outputs": [
        {
          "output_type": "execute_result",
          "data": {
            "text/plain": [
              "FALHA DO MOTOR EM VOO                                  13.095238\n",
              "ESTOURO DE PNEU                                        11.597542\n",
              "FALHA OU MAU FUNCIONAMENTO DE SISTEMA / COMPONENTE     11.021505\n",
              "PERDA DE CONTROLE NO SOLO                               9.447005\n",
              "OUTROS                                                  6.720430\n",
              "                                                         ...    \n",
              "ALARME FALSO DE FOGO OU DE SUPERAQUECIMENTO             0.019201\n",
              "RELACIONADO COM SECURITY                                0.019201\n",
              "CAUSADO POR RICOCHETE                                   0.019201\n",
              "CORTANTE DE VENTO / TEMPESTADE                          0.019201\n",
              "MANOBRA ABRUPTA                                         0.019201\n",
              "Name: ocorrencia_tipo, Length: 63, dtype: float64"
            ]
          },
          "metadata": {
            "tags": []
          },
          "execution_count": 19
        }
      ]
    },
    {
      "cell_type": "code",
      "metadata": {
        "id": "ghZLXa8u-MIv"
      },
      "source": [
        ""
      ],
      "execution_count": null,
      "outputs": []
    }
  ]
}