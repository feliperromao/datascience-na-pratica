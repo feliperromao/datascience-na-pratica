{
  "nbformat": 4,
  "nbformat_minor": 0,
  "metadata": {
    "colab": {
      "name": "pandas-tratamento-dados-churn",
      "provenance": [],
      "authorship_tag": "ABX9TyPRTPL8DXUhQm75I/pHKLwv",
      "include_colab_link": true
    },
    "kernelspec": {
      "name": "python3",
      "display_name": "Python 3"
    },
    "language_info": {
      "name": "python"
    }
  },
  "cells": [
    {
      "cell_type": "markdown",
      "metadata": {
        "id": "view-in-github",
        "colab_type": "text"
      },
      "source": [
        "<a href=\"https://colab.research.google.com/github/feliperromao/datascience-na-pratica/blob/main/pandas_tratamento_dados_churn.ipynb\" target=\"_parent\"><img src=\"https://colab.research.google.com/assets/colab-badge.svg\" alt=\"Open In Colab\"/></a>"
      ]
    },
    {
      "cell_type": "code",
      "metadata": {
        "id": "a11m3QTfVBQz"
      },
      "source": [
        "import pandas as pd"
      ],
      "execution_count": 187,
      "outputs": []
    },
    {
      "cell_type": "markdown",
      "metadata": {
        "id": "aljcdQf8WZVG"
      },
      "source": [
        "## Carregando os dados"
      ]
    },
    {
      "cell_type": "code",
      "metadata": {
        "colab": {
          "base_uri": "https://localhost:8080/"
        },
        "id": "NPyfMCzAVZq_",
        "outputId": "4611005c-0cf8-44ba-c845-d083b09279ac"
      },
      "source": [
        "df = pd.read_csv(\"https://raw.githubusercontent.com/feliperromao/datascience-na-pratica/main/Churn.csv\", sep=\";\")\n",
        "df.shape"
      ],
      "execution_count": 188,
      "outputs": [
        {
          "output_type": "execute_result",
          "data": {
            "text/plain": [
              "(999, 12)"
            ]
          },
          "metadata": {
            "tags": []
          },
          "execution_count": 188
        }
      ]
    },
    {
      "cell_type": "markdown",
      "metadata": {
        "id": "iimz7qYFWbc0"
      },
      "source": [
        "## Analise exploratória e preparação dos dados\n",
        "Ao visualizar os dados pela primeira vez percebemos que as colunas não estão com os nomes adequados\n",
        "\n",
        "Vamos renomear as colunas"
      ]
    },
    {
      "cell_type": "code",
      "metadata": {
        "colab": {
          "base_uri": "https://localhost:8080/",
          "height": 195
        },
        "id": "Ab2VcT57Vdw3",
        "outputId": "f1498e46-d3f0-454c-e07a-c2fec0fcc1eb"
      },
      "source": [
        "df.head()"
      ],
      "execution_count": 189,
      "outputs": [
        {
          "output_type": "execute_result",
          "data": {
            "text/html": [
              "<div>\n",
              "<style scoped>\n",
              "    .dataframe tbody tr th:only-of-type {\n",
              "        vertical-align: middle;\n",
              "    }\n",
              "\n",
              "    .dataframe tbody tr th {\n",
              "        vertical-align: top;\n",
              "    }\n",
              "\n",
              "    .dataframe thead th {\n",
              "        text-align: right;\n",
              "    }\n",
              "</style>\n",
              "<table border=\"1\" class=\"dataframe\">\n",
              "  <thead>\n",
              "    <tr style=\"text-align: right;\">\n",
              "      <th></th>\n",
              "      <th>X0</th>\n",
              "      <th>X1</th>\n",
              "      <th>X2</th>\n",
              "      <th>X3</th>\n",
              "      <th>X4</th>\n",
              "      <th>X4.1</th>\n",
              "      <th>X6</th>\n",
              "      <th>X7</th>\n",
              "      <th>X8</th>\n",
              "      <th>X9</th>\n",
              "      <th>X10</th>\n",
              "      <th>X11</th>\n",
              "    </tr>\n",
              "  </thead>\n",
              "  <tbody>\n",
              "    <tr>\n",
              "      <th>0</th>\n",
              "      <td>1</td>\n",
              "      <td>619</td>\n",
              "      <td>RS</td>\n",
              "      <td>Feminino</td>\n",
              "      <td>42</td>\n",
              "      <td>2</td>\n",
              "      <td>0</td>\n",
              "      <td>1</td>\n",
              "      <td>1</td>\n",
              "      <td>1</td>\n",
              "      <td>10134888.0</td>\n",
              "      <td>1</td>\n",
              "    </tr>\n",
              "    <tr>\n",
              "      <th>1</th>\n",
              "      <td>2</td>\n",
              "      <td>608</td>\n",
              "      <td>SC</td>\n",
              "      <td>Feminino</td>\n",
              "      <td>41</td>\n",
              "      <td>1</td>\n",
              "      <td>8380786</td>\n",
              "      <td>1</td>\n",
              "      <td>0</td>\n",
              "      <td>1</td>\n",
              "      <td>11254258.0</td>\n",
              "      <td>0</td>\n",
              "    </tr>\n",
              "    <tr>\n",
              "      <th>2</th>\n",
              "      <td>3</td>\n",
              "      <td>502</td>\n",
              "      <td>RS</td>\n",
              "      <td>Feminino</td>\n",
              "      <td>42</td>\n",
              "      <td>8</td>\n",
              "      <td>1596608</td>\n",
              "      <td>3</td>\n",
              "      <td>1</td>\n",
              "      <td>0</td>\n",
              "      <td>11393157.0</td>\n",
              "      <td>1</td>\n",
              "    </tr>\n",
              "    <tr>\n",
              "      <th>3</th>\n",
              "      <td>4</td>\n",
              "      <td>699</td>\n",
              "      <td>RS</td>\n",
              "      <td>Feminino</td>\n",
              "      <td>39</td>\n",
              "      <td>1</td>\n",
              "      <td>0</td>\n",
              "      <td>2</td>\n",
              "      <td>0</td>\n",
              "      <td>0</td>\n",
              "      <td>9382663.0</td>\n",
              "      <td>0</td>\n",
              "    </tr>\n",
              "    <tr>\n",
              "      <th>4</th>\n",
              "      <td>5</td>\n",
              "      <td>850</td>\n",
              "      <td>SC</td>\n",
              "      <td>Feminino</td>\n",
              "      <td>43</td>\n",
              "      <td>2</td>\n",
              "      <td>12551082</td>\n",
              "      <td>1</td>\n",
              "      <td>1</td>\n",
              "      <td>1</td>\n",
              "      <td>790841.0</td>\n",
              "      <td>0</td>\n",
              "    </tr>\n",
              "  </tbody>\n",
              "</table>\n",
              "</div>"
            ],
            "text/plain": [
              "   X0   X1  X2        X3  X4  X4.1        X6  X7  X8  X9         X10  X11\n",
              "0   1  619  RS  Feminino  42     2         0   1   1   1  10134888.0    1\n",
              "1   2  608  SC  Feminino  41     1   8380786   1   0   1  11254258.0    0\n",
              "2   3  502  RS  Feminino  42     8   1596608   3   1   0  11393157.0    1\n",
              "3   4  699  RS  Feminino  39     1         0   2   0   0   9382663.0    0\n",
              "4   5  850  SC  Feminino  43     2  12551082   1   1   1    790841.0    0"
            ]
          },
          "metadata": {
            "tags": []
          },
          "execution_count": 189
        }
      ]
    },
    {
      "cell_type": "markdown",
      "metadata": {
        "id": "9j4rkf1-XQF0"
      },
      "source": [
        "### Renomeando as colunas e visualizando os dados"
      ]
    },
    {
      "cell_type": "code",
      "metadata": {
        "colab": {
          "base_uri": "https://localhost:8080/",
          "height": 195
        },
        "id": "WCQ9N1V5VhQe",
        "outputId": "5ee1efba-b47b-4618-ae0a-103076683ca8"
      },
      "source": [
        "df.columns = [\"id\", \"score\", \"estado\", \"genero\", \"idade\", \"patrimonio\", \"saldo\", \"produtos\", \"cartao-credito\", \"ativo\", \"salario\", \"saiu\"]\n",
        "df.head()"
      ],
      "execution_count": 190,
      "outputs": [
        {
          "output_type": "execute_result",
          "data": {
            "text/html": [
              "<div>\n",
              "<style scoped>\n",
              "    .dataframe tbody tr th:only-of-type {\n",
              "        vertical-align: middle;\n",
              "    }\n",
              "\n",
              "    .dataframe tbody tr th {\n",
              "        vertical-align: top;\n",
              "    }\n",
              "\n",
              "    .dataframe thead th {\n",
              "        text-align: right;\n",
              "    }\n",
              "</style>\n",
              "<table border=\"1\" class=\"dataframe\">\n",
              "  <thead>\n",
              "    <tr style=\"text-align: right;\">\n",
              "      <th></th>\n",
              "      <th>id</th>\n",
              "      <th>score</th>\n",
              "      <th>estado</th>\n",
              "      <th>genero</th>\n",
              "      <th>idade</th>\n",
              "      <th>patrimonio</th>\n",
              "      <th>saldo</th>\n",
              "      <th>produtos</th>\n",
              "      <th>cartao-credito</th>\n",
              "      <th>ativo</th>\n",
              "      <th>salario</th>\n",
              "      <th>saiu</th>\n",
              "    </tr>\n",
              "  </thead>\n",
              "  <tbody>\n",
              "    <tr>\n",
              "      <th>0</th>\n",
              "      <td>1</td>\n",
              "      <td>619</td>\n",
              "      <td>RS</td>\n",
              "      <td>Feminino</td>\n",
              "      <td>42</td>\n",
              "      <td>2</td>\n",
              "      <td>0</td>\n",
              "      <td>1</td>\n",
              "      <td>1</td>\n",
              "      <td>1</td>\n",
              "      <td>10134888.0</td>\n",
              "      <td>1</td>\n",
              "    </tr>\n",
              "    <tr>\n",
              "      <th>1</th>\n",
              "      <td>2</td>\n",
              "      <td>608</td>\n",
              "      <td>SC</td>\n",
              "      <td>Feminino</td>\n",
              "      <td>41</td>\n",
              "      <td>1</td>\n",
              "      <td>8380786</td>\n",
              "      <td>1</td>\n",
              "      <td>0</td>\n",
              "      <td>1</td>\n",
              "      <td>11254258.0</td>\n",
              "      <td>0</td>\n",
              "    </tr>\n",
              "    <tr>\n",
              "      <th>2</th>\n",
              "      <td>3</td>\n",
              "      <td>502</td>\n",
              "      <td>RS</td>\n",
              "      <td>Feminino</td>\n",
              "      <td>42</td>\n",
              "      <td>8</td>\n",
              "      <td>1596608</td>\n",
              "      <td>3</td>\n",
              "      <td>1</td>\n",
              "      <td>0</td>\n",
              "      <td>11393157.0</td>\n",
              "      <td>1</td>\n",
              "    </tr>\n",
              "    <tr>\n",
              "      <th>3</th>\n",
              "      <td>4</td>\n",
              "      <td>699</td>\n",
              "      <td>RS</td>\n",
              "      <td>Feminino</td>\n",
              "      <td>39</td>\n",
              "      <td>1</td>\n",
              "      <td>0</td>\n",
              "      <td>2</td>\n",
              "      <td>0</td>\n",
              "      <td>0</td>\n",
              "      <td>9382663.0</td>\n",
              "      <td>0</td>\n",
              "    </tr>\n",
              "    <tr>\n",
              "      <th>4</th>\n",
              "      <td>5</td>\n",
              "      <td>850</td>\n",
              "      <td>SC</td>\n",
              "      <td>Feminino</td>\n",
              "      <td>43</td>\n",
              "      <td>2</td>\n",
              "      <td>12551082</td>\n",
              "      <td>1</td>\n",
              "      <td>1</td>\n",
              "      <td>1</td>\n",
              "      <td>790841.0</td>\n",
              "      <td>0</td>\n",
              "    </tr>\n",
              "  </tbody>\n",
              "</table>\n",
              "</div>"
            ],
            "text/plain": [
              "   id  score estado    genero  ...  cartao-credito  ativo     salario  saiu\n",
              "0   1    619     RS  Feminino  ...               1      1  10134888.0     1\n",
              "1   2    608     SC  Feminino  ...               0      1  11254258.0     0\n",
              "2   3    502     RS  Feminino  ...               1      0  11393157.0     1\n",
              "3   4    699     RS  Feminino  ...               0      0   9382663.0     0\n",
              "4   5    850     SC  Feminino  ...               1      1    790841.0     0\n",
              "\n",
              "[5 rows x 12 columns]"
            ]
          },
          "metadata": {
            "tags": []
          },
          "execution_count": 190
        }
      ]
    },
    {
      "cell_type": "markdown",
      "metadata": {
        "id": "0cWMeGVvnCoF"
      },
      "source": [
        "### Verificando dados nulos"
      ]
    },
    {
      "cell_type": "code",
      "metadata": {
        "colab": {
          "base_uri": "https://localhost:8080/"
        },
        "id": "aJoo1e0nm1yr",
        "outputId": "c4ec741c-fe2d-49f5-be70-5594a54f4d0f"
      },
      "source": [
        "df.isnull().sum()"
      ],
      "execution_count": 191,
      "outputs": [
        {
          "output_type": "execute_result",
          "data": {
            "text/plain": [
              "id                0\n",
              "score             0\n",
              "estado            0\n",
              "genero            8\n",
              "idade             0\n",
              "patrimonio        0\n",
              "saldo             0\n",
              "produtos          0\n",
              "cartao-credito    0\n",
              "ativo             0\n",
              "salario           7\n",
              "saiu              0\n",
              "dtype: int64"
            ]
          },
          "metadata": {
            "tags": []
          },
          "execution_count": 191
        }
      ]
    },
    {
      "cell_type": "markdown",
      "metadata": {
        "id": "ee8wrxz9nofP"
      },
      "source": [
        "### Preenchendo dados nulos de `salario` com a média "
      ]
    },
    {
      "cell_type": "code",
      "metadata": {
        "colab": {
          "base_uri": "https://localhost:8080/"
        },
        "id": "HKrVYJ3MnkRF",
        "outputId": "02a7e6d0-432e-41f6-c8ec-a8f84cf85e76"
      },
      "source": [
        "## Visualizando detalhes de salario\n",
        "df.salario.describe()"
      ],
      "execution_count": 192,
      "outputs": [
        {
          "output_type": "execute_result",
          "data": {
            "text/plain": [
              "count    9.920000e+02\n",
              "mean     3.528762e+07\n",
              "std      5.305800e+08\n",
              "min      9.677000e+03\n",
              "25%      3.029011e+06\n",
              "50%      8.703250e+06\n",
              "75%      1.405213e+07\n",
              "max      1.193469e+10\n",
              "Name: salario, dtype: float64"
            ]
          },
          "metadata": {
            "tags": []
          },
          "execution_count": 192
        }
      ]
    },
    {
      "cell_type": "code",
      "metadata": {
        "colab": {
          "base_uri": "https://localhost:8080/"
        },
        "id": "Np_lJ-PRnzsz",
        "outputId": "8b053365-df34-41b8-d110-14baac3400d4"
      },
      "source": [
        "salario_median = df.salario.median()\n",
        "df.salario.fillna(salario_median, inplace=True)\n",
        "df.salario.isnull().sum()"
      ],
      "execution_count": 193,
      "outputs": [
        {
          "output_type": "execute_result",
          "data": {
            "text/plain": [
              "0"
            ]
          },
          "metadata": {
            "tags": []
          },
          "execution_count": 193
        }
      ]
    },
    {
      "cell_type": "markdown",
      "metadata": {
        "id": "U8pmOow8o7eL"
      },
      "source": [
        "### Preenchendo os dados nulos de `genero` com a moda\n",
        "Ao analisar os dados de genero percebemos que as categorias não estão padronizadas, possuindo mais de um valor para cada genero\n",
        "\n",
        "Vamos normalizar os dados dessa coluna substituindo pelos valores corretos sendo `Masculino` e `Feminino`\n",
        "\n",
        "Vamos também preencher os valores nulos com `Masculino` pois é o valor com maior ocorrência dentro do dataset"
      ]
    },
    {
      "cell_type": "code",
      "metadata": {
        "colab": {
          "base_uri": "https://localhost:8080/"
        },
        "id": "Rpijfc0Qol_j",
        "outputId": "a83056aa-cb9c-41b6-f514-cc10ebd841e6"
      },
      "source": [
        "df.genero.value_counts()"
      ],
      "execution_count": 194,
      "outputs": [
        {
          "output_type": "execute_result",
          "data": {
            "text/plain": [
              "Masculino    521\n",
              "Feminino     461\n",
              "M              6\n",
              "F              2\n",
              "Fem            1\n",
              "Name: genero, dtype: int64"
            ]
          },
          "metadata": {
            "tags": []
          },
          "execution_count": 194
        }
      ]
    },
    {
      "cell_type": "code",
      "metadata": {
        "colab": {
          "base_uri": "https://localhost:8080/",
          "height": 305
        },
        "id": "NJx1VJuopdnl",
        "outputId": "f7ad152c-d22d-4271-fdf5-6c2e52477ffb"
      },
      "source": [
        "df.genero.value_counts().plot(kind=\"bar\");"
      ],
      "execution_count": 195,
      "outputs": [
        {
          "output_type": "display_data",
          "data": {
            "image/png": "[encoded data removed]",
            "text/plain": [
              "<Figure size 432x288 with 1 Axes>"
            ]
          },
          "metadata": {
            "tags": [],
            "needs_background": "light"
          }
        }
      ]
    },
    {
      "cell_type": "code",
      "metadata": {
        "colab": {
          "base_uri": "https://localhost:8080/"
        },
        "id": "rjqpWuqsqdta",
        "outputId": "210752e7-11a3-42f5-b10d-1788f37d3c1e"
      },
      "source": [
        "df.genero.fillna(\"Masculino\", inplace=True)\n",
        "df.genero.isnull().sum()"
      ],
      "execution_count": 196,
      "outputs": [
        {
          "output_type": "execute_result",
          "data": {
            "text/plain": [
              "0"
            ]
          },
          "metadata": {
            "tags": []
          },
          "execution_count": 196
        }
      ]
    },
    {
      "cell_type": "code",
      "metadata": {
        "colab": {
          "base_uri": "https://localhost:8080/",
          "height": 305
        },
        "id": "bjUwPVR8q8DS",
        "outputId": "c7228595-b66d-4ba1-a723-29484357bb0a"
      },
      "source": [
        "## Ajustando valores fora do padrão\n",
        "df.loc[df.genero == \"M\", \"genero\"] = \"Masculino\"\n",
        "df.loc[df.genero.isin([\"F\", \"Fem\"]), \"genero\"] = \"Feminino\"\n",
        "\n",
        "df.genero.value_counts().plot(kind=\"bar\");"
      ],
      "execution_count": 197,
      "outputs": [
        {
          "output_type": "display_data",
          "data": {
            "image/png": "[encoded data removed]",
            "text/plain": [
              "<Figure size 432x288 with 1 Axes>"
            ]
          },
          "metadata": {
            "tags": [],
            "needs_background": "light"
          }
        }
      ]
    },
    {
      "cell_type": "markdown",
      "metadata": {
        "id": "qh-cm9DJatTS"
      },
      "source": [
        "### Convertendo valores booleanos\n",
        "\n",
        "Ao analisar os dados vemos que as colunas `saiu`, `cartao-credito` e `ativo` são dados com valores boleanos que estão representados por `1` e `0`. Vamos converter para `True` e `False` pois dessa forma o pandas irá processar essas informações de forma correta"
      ]
    },
    {
      "cell_type": "code",
      "metadata": {
        "id": "CG4fX6EtXWpm"
      },
      "source": [
        "df.loc[df[\"saiu\"] == 1, \"saiu\"] = True\n",
        "df.loc[df[\"saiu\"] == 0, \"saiu\"] = False\n",
        "\n",
        "df.loc[df[\"cartao-credito\"] == 1, \"cartao-credito\"] = True\n",
        "df.loc[df[\"cartao-credito\"] == 0, \"cartao-credito\"] = False\n",
        "\n",
        "df.loc[df[\"ativo\"] == 1, \"ativo\"] = True\n",
        "df.loc[df[\"ativo\"] == 0, \"ativo\"] = False"
      ],
      "execution_count": 198,
      "outputs": []
    },
    {
      "cell_type": "code",
      "metadata": {
        "colab": {
          "base_uri": "https://localhost:8080/",
          "height": 195
        },
        "id": "vWWPDAK1Xrrs",
        "outputId": "74f52b4b-3697-403e-efe1-2a1e4eed543c"
      },
      "source": [
        "df.head()"
      ],
      "execution_count": 199,
      "outputs": [
        {
          "output_type": "execute_result",
          "data": {
            "text/html": [
              "<div>\n",
              "<style scoped>\n",
              "    .dataframe tbody tr th:only-of-type {\n",
              "        vertical-align: middle;\n",
              "    }\n",
              "\n",
              "    .dataframe tbody tr th {\n",
              "        vertical-align: top;\n",
              "    }\n",
              "\n",
              "    .dataframe thead th {\n",
              "        text-align: right;\n",
              "    }\n",
              "</style>\n",
              "<table border=\"1\" class=\"dataframe\">\n",
              "  <thead>\n",
              "    <tr style=\"text-align: right;\">\n",
              "      <th></th>\n",
              "      <th>id</th>\n",
              "      <th>score</th>\n",
              "      <th>estado</th>\n",
              "      <th>genero</th>\n",
              "      <th>idade</th>\n",
              "      <th>patrimonio</th>\n",
              "      <th>saldo</th>\n",
              "      <th>produtos</th>\n",
              "      <th>cartao-credito</th>\n",
              "      <th>ativo</th>\n",
              "      <th>salario</th>\n",
              "      <th>saiu</th>\n",
              "    </tr>\n",
              "  </thead>\n",
              "  <tbody>\n",
              "    <tr>\n",
              "      <th>0</th>\n",
              "      <td>1</td>\n",
              "      <td>619</td>\n",
              "      <td>RS</td>\n",
              "      <td>Feminino</td>\n",
              "      <td>42</td>\n",
              "      <td>2</td>\n",
              "      <td>0</td>\n",
              "      <td>1</td>\n",
              "      <td>True</td>\n",
              "      <td>True</td>\n",
              "      <td>10134888.0</td>\n",
              "      <td>True</td>\n",
              "    </tr>\n",
              "    <tr>\n",
              "      <th>1</th>\n",
              "      <td>2</td>\n",
              "      <td>608</td>\n",
              "      <td>SC</td>\n",
              "      <td>Feminino</td>\n",
              "      <td>41</td>\n",
              "      <td>1</td>\n",
              "      <td>8380786</td>\n",
              "      <td>1</td>\n",
              "      <td>False</td>\n",
              "      <td>True</td>\n",
              "      <td>11254258.0</td>\n",
              "      <td>False</td>\n",
              "    </tr>\n",
              "    <tr>\n",
              "      <th>2</th>\n",
              "      <td>3</td>\n",
              "      <td>502</td>\n",
              "      <td>RS</td>\n",
              "      <td>Feminino</td>\n",
              "      <td>42</td>\n",
              "      <td>8</td>\n",
              "      <td>1596608</td>\n",
              "      <td>3</td>\n",
              "      <td>True</td>\n",
              "      <td>False</td>\n",
              "      <td>11393157.0</td>\n",
              "      <td>True</td>\n",
              "    </tr>\n",
              "    <tr>\n",
              "      <th>3</th>\n",
              "      <td>4</td>\n",
              "      <td>699</td>\n",
              "      <td>RS</td>\n",
              "      <td>Feminino</td>\n",
              "      <td>39</td>\n",
              "      <td>1</td>\n",
              "      <td>0</td>\n",
              "      <td>2</td>\n",
              "      <td>False</td>\n",
              "      <td>False</td>\n",
              "      <td>9382663.0</td>\n",
              "      <td>False</td>\n",
              "    </tr>\n",
              "    <tr>\n",
              "      <th>4</th>\n",
              "      <td>5</td>\n",
              "      <td>850</td>\n",
              "      <td>SC</td>\n",
              "      <td>Feminino</td>\n",
              "      <td>43</td>\n",
              "      <td>2</td>\n",
              "      <td>12551082</td>\n",
              "      <td>1</td>\n",
              "      <td>True</td>\n",
              "      <td>True</td>\n",
              "      <td>790841.0</td>\n",
              "      <td>False</td>\n",
              "    </tr>\n",
              "  </tbody>\n",
              "</table>\n",
              "</div>"
            ],
            "text/plain": [
              "   id  score estado    genero  ...  cartao-credito  ativo     salario   saiu\n",
              "0   1    619     RS  Feminino  ...            True   True  10134888.0   True\n",
              "1   2    608     SC  Feminino  ...           False   True  11254258.0  False\n",
              "2   3    502     RS  Feminino  ...            True  False  11393157.0   True\n",
              "3   4    699     RS  Feminino  ...           False  False   9382663.0  False\n",
              "4   5    850     SC  Feminino  ...            True   True    790841.0  False\n",
              "\n",
              "[5 rows x 12 columns]"
            ]
          },
          "metadata": {
            "tags": []
          },
          "execution_count": 199
        }
      ]
    },
    {
      "cell_type": "code",
      "metadata": {
        "colab": {
          "base_uri": "https://localhost:8080/",
          "height": 284
        },
        "id": "q1WP74IdX3ME",
        "outputId": "6cf03312-7973-48d1-81b7-5d292d601234"
      },
      "source": [
        "df.describe()"
      ],
      "execution_count": 200,
      "outputs": [
        {
          "output_type": "execute_result",
          "data": {
            "text/html": [
              "<div>\n",
              "<style scoped>\n",
              "    .dataframe tbody tr th:only-of-type {\n",
              "        vertical-align: middle;\n",
              "    }\n",
              "\n",
              "    .dataframe tbody tr th {\n",
              "        vertical-align: top;\n",
              "    }\n",
              "\n",
              "    .dataframe thead th {\n",
              "        text-align: right;\n",
              "    }\n",
              "</style>\n",
              "<table border=\"1\" class=\"dataframe\">\n",
              "  <thead>\n",
              "    <tr style=\"text-align: right;\">\n",
              "      <th></th>\n",
              "      <th>id</th>\n",
              "      <th>score</th>\n",
              "      <th>idade</th>\n",
              "      <th>patrimonio</th>\n",
              "      <th>saldo</th>\n",
              "      <th>produtos</th>\n",
              "      <th>salario</th>\n",
              "    </tr>\n",
              "  </thead>\n",
              "  <tbody>\n",
              "    <tr>\n",
              "      <th>count</th>\n",
              "      <td>999.000000</td>\n",
              "      <td>999.000000</td>\n",
              "      <td>999.000000</td>\n",
              "      <td>999.000000</td>\n",
              "      <td>9.990000e+02</td>\n",
              "      <td>999.000000</td>\n",
              "      <td>9.990000e+02</td>\n",
              "    </tr>\n",
              "    <tr>\n",
              "      <th>mean</th>\n",
              "      <td>500.916917</td>\n",
              "      <td>648.621622</td>\n",
              "      <td>38.902903</td>\n",
              "      <td>5.069069</td>\n",
              "      <td>7.164928e+06</td>\n",
              "      <td>1.526527</td>\n",
              "      <td>3.510134e+07</td>\n",
              "    </tr>\n",
              "    <tr>\n",
              "      <th>std</th>\n",
              "      <td>288.662884</td>\n",
              "      <td>98.264219</td>\n",
              "      <td>11.401912</td>\n",
              "      <td>2.927691</td>\n",
              "      <td>6.311840e+06</td>\n",
              "      <td>0.574201</td>\n",
              "      <td>5.287206e+08</td>\n",
              "    </tr>\n",
              "    <tr>\n",
              "      <th>min</th>\n",
              "      <td>1.000000</td>\n",
              "      <td>376.000000</td>\n",
              "      <td>-20.000000</td>\n",
              "      <td>0.000000</td>\n",
              "      <td>0.000000e+00</td>\n",
              "      <td>1.000000</td>\n",
              "      <td>9.677000e+03</td>\n",
              "    </tr>\n",
              "    <tr>\n",
              "      <th>25%</th>\n",
              "      <td>251.500000</td>\n",
              "      <td>580.000000</td>\n",
              "      <td>32.000000</td>\n",
              "      <td>2.000000</td>\n",
              "      <td>0.000000e+00</td>\n",
              "      <td>1.000000</td>\n",
              "      <td>3.078473e+06</td>\n",
              "    </tr>\n",
              "    <tr>\n",
              "      <th>50%</th>\n",
              "      <td>501.000000</td>\n",
              "      <td>653.000000</td>\n",
              "      <td>37.000000</td>\n",
              "      <td>5.000000</td>\n",
              "      <td>8.958835e+06</td>\n",
              "      <td>1.000000</td>\n",
              "      <td>8.703250e+06</td>\n",
              "    </tr>\n",
              "    <tr>\n",
              "      <th>75%</th>\n",
              "      <td>750.500000</td>\n",
              "      <td>721.000000</td>\n",
              "      <td>44.000000</td>\n",
              "      <td>8.000000</td>\n",
              "      <td>1.258684e+07</td>\n",
              "      <td>2.000000</td>\n",
              "      <td>1.402954e+07</td>\n",
              "    </tr>\n",
              "    <tr>\n",
              "      <th>max</th>\n",
              "      <td>1000.000000</td>\n",
              "      <td>850.000000</td>\n",
              "      <td>140.000000</td>\n",
              "      <td>10.000000</td>\n",
              "      <td>2.117743e+07</td>\n",
              "      <td>4.000000</td>\n",
              "      <td>1.193469e+10</td>\n",
              "    </tr>\n",
              "  </tbody>\n",
              "</table>\n",
              "</div>"
            ],
            "text/plain": [
              "                id       score  ...    produtos       salario\n",
              "count   999.000000  999.000000  ...  999.000000  9.990000e+02\n",
              "mean    500.916917  648.621622  ...    1.526527  3.510134e+07\n",
              "std     288.662884   98.264219  ...    0.574201  5.287206e+08\n",
              "min       1.000000  376.000000  ...    1.000000  9.677000e+03\n",
              "25%     251.500000  580.000000  ...    1.000000  3.078473e+06\n",
              "50%     501.000000  653.000000  ...    1.000000  8.703250e+06\n",
              "75%     750.500000  721.000000  ...    2.000000  1.402954e+07\n",
              "max    1000.000000  850.000000  ...    4.000000  1.193469e+10\n",
              "\n",
              "[8 rows x 7 columns]"
            ]
          },
          "metadata": {
            "tags": []
          },
          "execution_count": 200
        }
      ]
    },
    {
      "cell_type": "markdown",
      "metadata": {
        "id": "YC9Tr6dqbMOo"
      },
      "source": [
        "### Analisando coluna `estado`\n",
        "\n",
        "Nessa coluna podemos ver que existe dois valores que não correspondem a nenhum estado: `TD` e `RP`\n",
        "\n",
        "Podemos observar tbm que temos o estado de `SP` cujo não faz parte da região que a empresa atende\n",
        "\n",
        "De acordo com essa análise devemos substituir os valores de `TD`, `RP` e `SP` pelo valor da moda, que é `RS`"
      ]
    },
    {
      "cell_type": "code",
      "metadata": {
        "colab": {
          "base_uri": "https://localhost:8080/"
        },
        "id": "Qg4VfSBzYRqy",
        "outputId": "d1fbf3a8-e267-4d08-c47f-83be16497c1b"
      },
      "source": [
        "df.estado.value_counts()"
      ],
      "execution_count": 201,
      "outputs": [
        {
          "output_type": "execute_result",
          "data": {
            "text/plain": [
              "RS    478\n",
              "SC    258\n",
              "PR    257\n",
              "SP      4\n",
              "TD      1\n",
              "RP      1\n",
              "Name: estado, dtype: int64"
            ]
          },
          "metadata": {
            "tags": []
          },
          "execution_count": 201
        }
      ]
    },
    {
      "cell_type": "code",
      "metadata": {
        "colab": {
          "base_uri": "https://localhost:8080/",
          "height": 272
        },
        "id": "LGcMrFRDbIZq",
        "outputId": "9eb7d9b6-063f-4a05-81ac-a9fb75acf11d"
      },
      "source": [
        "df.estado.value_counts().plot.bar(color=\"orange\");"
      ],
      "execution_count": 202,
      "outputs": [
        {
          "output_type": "display_data",
          "data": {
            "image/png": "[encoded data removed]",
            "text/plain": [
              "<Figure size 432x288 with 1 Axes>"
            ]
          },
          "metadata": {
            "tags": [],
            "needs_background": "light"
          }
        }
      ]
    },
    {
      "cell_type": "code",
      "metadata": {
        "id": "JbXQ9BHxdWYY"
      },
      "source": [
        "df.loc[df.estado.isin([\"TD\", \"RP\", \"SP\"]), \"estado\"] = \"RS\""
      ],
      "execution_count": 203,
      "outputs": []
    },
    {
      "cell_type": "code",
      "metadata": {
        "colab": {
          "base_uri": "https://localhost:8080/"
        },
        "id": "Xlxe0yx6epE5",
        "outputId": "5a99b27b-e509-477e-df11-2b758cd8cccd"
      },
      "source": [
        "df.estado.value_counts()"
      ],
      "execution_count": 204,
      "outputs": [
        {
          "output_type": "execute_result",
          "data": {
            "text/plain": [
              "RS    484\n",
              "SC    258\n",
              "PR    257\n",
              "Name: estado, dtype: int64"
            ]
          },
          "metadata": {
            "tags": []
          },
          "execution_count": 204
        }
      ]
    },
    {
      "cell_type": "code",
      "metadata": {
        "colab": {
          "base_uri": "https://localhost:8080/",
          "height": 269
        },
        "id": "gPYIQlFmfIbO",
        "outputId": "7d407683-c618-44f1-f857-2576f9cee2ca"
      },
      "source": [
        "df.estado.value_counts().plot.bar(color=\"orange\");"
      ],
      "execution_count": 205,
      "outputs": [
        {
          "output_type": "display_data",
          "data": {
            "image/png": "[encoded data removed]",
            "text/plain": [
              "<Figure size 432x288 with 1 Axes>"
            ]
          },
          "metadata": {
            "tags": [],
            "needs_background": "light"
          }
        }
      ]
    },
    {
      "cell_type": "markdown",
      "metadata": {
        "id": "EeZIPwnOs5IA"
      },
      "source": [
        "### Analisando coluna `idade`\n",
        "\n",
        "Ao analisar as idades percebemos que existem valores que vão de-20 até 140, esses valores estão totalmente inconsistentes e precisam ser substituidos. Vamos substituir esses valores pela mediana"
      ]
    },
    {
      "cell_type": "code",
      "metadata": {
        "colab": {
          "base_uri": "https://localhost:8080/"
        },
        "id": "qKq99LRfrxHY",
        "outputId": "332e3a6f-aa73-47a1-f408-2c40773660f1"
      },
      "source": [
        "df.idade.describe()"
      ],
      "execution_count": 206,
      "outputs": [
        {
          "output_type": "execute_result",
          "data": {
            "text/plain": [
              "count    999.000000\n",
              "mean      38.902903\n",
              "std       11.401912\n",
              "min      -20.000000\n",
              "25%       32.000000\n",
              "50%       37.000000\n",
              "75%       44.000000\n",
              "max      140.000000\n",
              "Name: idade, dtype: float64"
            ]
          },
          "metadata": {
            "tags": []
          },
          "execution_count": 206
        }
      ]
    },
    {
      "cell_type": "code",
      "metadata": {
        "colab": {
          "base_uri": "https://localhost:8080/",
          "height": 211
        },
        "id": "lEQn4efYtrzv",
        "outputId": "b0422a80-3846-4315-a880-7b22e04f7e47"
      },
      "source": [
        "df.idade.plot.box(vert=False, figsize=(10,3));"
      ],
      "execution_count": 207,
      "outputs": [
        {
          "output_type": "display_data",
          "data": {
            "image/png": "[encoded data removed]",
            "text/plain": [
              "<Figure size 720x216 with 1 Axes>"
            ]
          },
          "metadata": {
            "tags": [],
            "needs_background": "light"
          }
        }
      ]
    },
    {
      "cell_type": "code",
      "metadata": {
        "colab": {
          "base_uri": "https://localhost:8080/",
          "height": 136
        },
        "id": "JYFbr8zDtAlY",
        "outputId": "ba37c7f1-64e9-4196-b0cf-311cd3896057"
      },
      "source": [
        "## Visualizando os registros que estão fora do padrão\n",
        "df.loc[(df.idade < 0) | (df.idade > 120)]"
      ],
      "execution_count": 208,
      "outputs": [
        {
          "output_type": "execute_result",
          "data": {
            "text/html": [
              "<div>\n",
              "<style scoped>\n",
              "    .dataframe tbody tr th:only-of-type {\n",
              "        vertical-align: middle;\n",
              "    }\n",
              "\n",
              "    .dataframe tbody tr th {\n",
              "        vertical-align: top;\n",
              "    }\n",
              "\n",
              "    .dataframe thead th {\n",
              "        text-align: right;\n",
              "    }\n",
              "</style>\n",
              "<table border=\"1\" class=\"dataframe\">\n",
              "  <thead>\n",
              "    <tr style=\"text-align: right;\">\n",
              "      <th></th>\n",
              "      <th>id</th>\n",
              "      <th>score</th>\n",
              "      <th>estado</th>\n",
              "      <th>genero</th>\n",
              "      <th>idade</th>\n",
              "      <th>patrimonio</th>\n",
              "      <th>saldo</th>\n",
              "      <th>produtos</th>\n",
              "      <th>cartao-credito</th>\n",
              "      <th>ativo</th>\n",
              "      <th>salario</th>\n",
              "      <th>saiu</th>\n",
              "    </tr>\n",
              "  </thead>\n",
              "  <tbody>\n",
              "    <tr>\n",
              "      <th>867</th>\n",
              "      <td>869</td>\n",
              "      <td>636</td>\n",
              "      <td>RS</td>\n",
              "      <td>Feminino</td>\n",
              "      <td>-10</td>\n",
              "      <td>1</td>\n",
              "      <td>17083346</td>\n",
              "      <td>1</td>\n",
              "      <td>True</td>\n",
              "      <td>False</td>\n",
              "      <td>11051028.0</td>\n",
              "      <td>True</td>\n",
              "    </tr>\n",
              "    <tr>\n",
              "      <th>984</th>\n",
              "      <td>986</td>\n",
              "      <td>773</td>\n",
              "      <td>RS</td>\n",
              "      <td>Masculino</td>\n",
              "      <td>-20</td>\n",
              "      <td>1</td>\n",
              "      <td>12453278</td>\n",
              "      <td>2</td>\n",
              "      <td>False</td>\n",
              "      <td>True</td>\n",
              "      <td>1172357.0</td>\n",
              "      <td>False</td>\n",
              "    </tr>\n",
              "    <tr>\n",
              "      <th>990</th>\n",
              "      <td>992</td>\n",
              "      <td>655</td>\n",
              "      <td>RS</td>\n",
              "      <td>Masculino</td>\n",
              "      <td>140</td>\n",
              "      <td>5</td>\n",
              "      <td>93147</td>\n",
              "      <td>2</td>\n",
              "      <td>True</td>\n",
              "      <td>False</td>\n",
              "      <td>6621413.0</td>\n",
              "      <td>False</td>\n",
              "    </tr>\n",
              "  </tbody>\n",
              "</table>\n",
              "</div>"
            ],
            "text/plain": [
              "      id  score estado     genero  ...  cartao-credito  ativo     salario   saiu\n",
              "867  869    636     RS   Feminino  ...            True  False  11051028.0   True\n",
              "984  986    773     RS  Masculino  ...           False   True   1172357.0  False\n",
              "990  992    655     RS  Masculino  ...            True  False   6621413.0  False\n",
              "\n",
              "[3 rows x 12 columns]"
            ]
          },
          "metadata": {
            "tags": []
          },
          "execution_count": 208
        }
      ]
    },
    {
      "cell_type": "code",
      "metadata": {
        "colab": {
          "base_uri": "https://localhost:8080/"
        },
        "id": "BfTWyULttlKW",
        "outputId": "6b438297-9751-4bd1-b5f1-8e94439260b1"
      },
      "source": [
        "idade_median = df.idade.median()\n",
        "idade_median"
      ],
      "execution_count": 209,
      "outputs": [
        {
          "output_type": "execute_result",
          "data": {
            "text/plain": [
              "37.0"
            ]
          },
          "metadata": {
            "tags": []
          },
          "execution_count": 209
        }
      ]
    },
    {
      "cell_type": "code",
      "metadata": {
        "colab": {
          "base_uri": "https://localhost:8080/",
          "height": 211
        },
        "id": "vPoWKp_vuSt5",
        "outputId": "e66caf0f-98c7-41c2-9187-23951a83c881"
      },
      "source": [
        "df.loc[(df.idade < 0) | (df.idade > 120), \"idade\"] = idade_median\n",
        "\n",
        "df.idade.plot.box(vert=False, figsize=(10,3));"
      ],
      "execution_count": 210,
      "outputs": [
        {
          "output_type": "display_data",
          "data": {
            "image/png": "[encoded data removed]",
            "text/plain": [
              "<Figure size 720x216 with 1 Axes>"
            ]
          },
          "metadata": {
            "tags": [],
            "needs_background": "light"
          }
        }
      ]
    },
    {
      "cell_type": "code",
      "metadata": {
        "colab": {
          "base_uri": "https://localhost:8080/",
          "height": 47
        },
        "id": "mAt5bPbVuZXu",
        "outputId": "28b6fbff-e9cd-4366-eb77-abbda8a84532"
      },
      "source": [
        "df.loc[(df.idade < 0) | (df.idade > 120)]"
      ],
      "execution_count": 211,
      "outputs": [
        {
          "output_type": "execute_result",
          "data": {
            "text/html": [
              "<div>\n",
              "<style scoped>\n",
              "    .dataframe tbody tr th:only-of-type {\n",
              "        vertical-align: middle;\n",
              "    }\n",
              "\n",
              "    .dataframe tbody tr th {\n",
              "        vertical-align: top;\n",
              "    }\n",
              "\n",
              "    .dataframe thead th {\n",
              "        text-align: right;\n",
              "    }\n",
              "</style>\n",
              "<table border=\"1\" class=\"dataframe\">\n",
              "  <thead>\n",
              "    <tr style=\"text-align: right;\">\n",
              "      <th></th>\n",
              "      <th>id</th>\n",
              "      <th>score</th>\n",
              "      <th>estado</th>\n",
              "      <th>genero</th>\n",
              "      <th>idade</th>\n",
              "      <th>patrimonio</th>\n",
              "      <th>saldo</th>\n",
              "      <th>produtos</th>\n",
              "      <th>cartao-credito</th>\n",
              "      <th>ativo</th>\n",
              "      <th>salario</th>\n",
              "      <th>saiu</th>\n",
              "    </tr>\n",
              "  </thead>\n",
              "  <tbody>\n",
              "  </tbody>\n",
              "</table>\n",
              "</div>"
            ],
            "text/plain": [
              "Empty DataFrame\n",
              "Columns: [id, score, estado, genero, idade, patrimonio, saldo, produtos, cartao-credito, ativo, salario, saiu]\n",
              "Index: []"
            ]
          },
          "metadata": {
            "tags": []
          },
          "execution_count": 211
        }
      ]
    },
    {
      "cell_type": "code",
      "metadata": {
        "colab": {
          "base_uri": "https://localhost:8080/"
        },
        "id": "1ITl0LIGvLsd",
        "outputId": "e701f0cf-b11a-4df9-d0e6-8e08bdb54bb4"
      },
      "source": [
        "df.loc[867]"
      ],
      "execution_count": 212,
      "outputs": [
        {
          "output_type": "execute_result",
          "data": {
            "text/plain": [
              "id                       869\n",
              "score                    636\n",
              "estado                    RS\n",
              "genero              Feminino\n",
              "idade                     37\n",
              "patrimonio                 1\n",
              "saldo               17083346\n",
              "produtos                   1\n",
              "cartao-credito          True\n",
              "ativo                  False\n",
              "salario           1.1051e+07\n",
              "saiu                    True\n",
              "Name: 867, dtype: object"
            ]
          },
          "metadata": {
            "tags": []
          },
          "execution_count": 212
        }
      ]
    },
    {
      "cell_type": "markdown",
      "metadata": {
        "id": "AX3Sm4WPvymc"
      },
      "source": [
        "### Tratando dados duplicados"
      ]
    },
    {
      "cell_type": "code",
      "metadata": {
        "colab": {
          "base_uri": "https://localhost:8080/",
          "height": 106
        },
        "id": "gN5CLY-kvccc",
        "outputId": "7f9e9002-4c96-4776-aeb7-01b18dee4be3"
      },
      "source": [
        "df[ df.duplicated([\"id\"], keep=False) ]"
      ],
      "execution_count": 213,
      "outputs": [
        {
          "output_type": "execute_result",
          "data": {
            "text/html": [
              "<div>\n",
              "<style scoped>\n",
              "    .dataframe tbody tr th:only-of-type {\n",
              "        vertical-align: middle;\n",
              "    }\n",
              "\n",
              "    .dataframe tbody tr th {\n",
              "        vertical-align: top;\n",
              "    }\n",
              "\n",
              "    .dataframe thead th {\n",
              "        text-align: right;\n",
              "    }\n",
              "</style>\n",
              "<table border=\"1\" class=\"dataframe\">\n",
              "  <thead>\n",
              "    <tr style=\"text-align: right;\">\n",
              "      <th></th>\n",
              "      <th>id</th>\n",
              "      <th>score</th>\n",
              "      <th>estado</th>\n",
              "      <th>genero</th>\n",
              "      <th>idade</th>\n",
              "      <th>patrimonio</th>\n",
              "      <th>saldo</th>\n",
              "      <th>produtos</th>\n",
              "      <th>cartao-credito</th>\n",
              "      <th>ativo</th>\n",
              "      <th>salario</th>\n",
              "      <th>saiu</th>\n",
              "    </tr>\n",
              "  </thead>\n",
              "  <tbody>\n",
              "    <tr>\n",
              "      <th>80</th>\n",
              "      <td>81</td>\n",
              "      <td>665</td>\n",
              "      <td>RS</td>\n",
              "      <td>Feminino</td>\n",
              "      <td>34</td>\n",
              "      <td>1</td>\n",
              "      <td>9664554</td>\n",
              "      <td>2</td>\n",
              "      <td>False</td>\n",
              "      <td>False</td>\n",
              "      <td>17141366.0</td>\n",
              "      <td>False</td>\n",
              "    </tr>\n",
              "    <tr>\n",
              "      <th>81</th>\n",
              "      <td>81</td>\n",
              "      <td>665</td>\n",
              "      <td>RS</td>\n",
              "      <td>Feminino</td>\n",
              "      <td>34</td>\n",
              "      <td>1</td>\n",
              "      <td>9664554</td>\n",
              "      <td>2</td>\n",
              "      <td>False</td>\n",
              "      <td>False</td>\n",
              "      <td>17141366.0</td>\n",
              "      <td>False</td>\n",
              "    </tr>\n",
              "  </tbody>\n",
              "</table>\n",
              "</div>"
            ],
            "text/plain": [
              "    id  score estado    genero  ...  cartao-credito  ativo     salario   saiu\n",
              "80  81    665     RS  Feminino  ...           False  False  17141366.0  False\n",
              "81  81    665     RS  Feminino  ...           False  False  17141366.0  False\n",
              "\n",
              "[2 rows x 12 columns]"
            ]
          },
          "metadata": {
            "tags": []
          },
          "execution_count": 213
        }
      ]
    },
    {
      "cell_type": "code",
      "metadata": {
        "colab": {
          "base_uri": "https://localhost:8080/",
          "height": 47
        },
        "id": "0xsTq-i7wN91",
        "outputId": "55e929fe-5026-4368-d1d6-6aa5833270a7"
      },
      "source": [
        "df.drop_duplicates(subset=\"id\", keep=\"first\", inplace=True)\n",
        "df[ df.duplicated([\"id\"], keep=False) ]"
      ],
      "execution_count": 214,
      "outputs": [
        {
          "output_type": "execute_result",
          "data": {
            "text/html": [
              "<div>\n",
              "<style scoped>\n",
              "    .dataframe tbody tr th:only-of-type {\n",
              "        vertical-align: middle;\n",
              "    }\n",
              "\n",
              "    .dataframe tbody tr th {\n",
              "        vertical-align: top;\n",
              "    }\n",
              "\n",
              "    .dataframe thead th {\n",
              "        text-align: right;\n",
              "    }\n",
              "</style>\n",
              "<table border=\"1\" class=\"dataframe\">\n",
              "  <thead>\n",
              "    <tr style=\"text-align: right;\">\n",
              "      <th></th>\n",
              "      <th>id</th>\n",
              "      <th>score</th>\n",
              "      <th>estado</th>\n",
              "      <th>genero</th>\n",
              "      <th>idade</th>\n",
              "      <th>patrimonio</th>\n",
              "      <th>saldo</th>\n",
              "      <th>produtos</th>\n",
              "      <th>cartao-credito</th>\n",
              "      <th>ativo</th>\n",
              "      <th>salario</th>\n",
              "      <th>saiu</th>\n",
              "    </tr>\n",
              "  </thead>\n",
              "  <tbody>\n",
              "  </tbody>\n",
              "</table>\n",
              "</div>"
            ],
            "text/plain": [
              "Empty DataFrame\n",
              "Columns: [id, score, estado, genero, idade, patrimonio, saldo, produtos, cartao-credito, ativo, salario, saiu]\n",
              "Index: []"
            ]
          },
          "metadata": {
            "tags": []
          },
          "execution_count": 214
        }
      ]
    },
    {
      "cell_type": "markdown",
      "metadata": {
        "id": "s4jVr5Grzw9Q"
      },
      "source": [
        "### Analisando desvio padrão na coluna `salario`"
      ]
    },
    {
      "cell_type": "code",
      "metadata": {
        "colab": {
          "base_uri": "https://localhost:8080/"
        },
        "id": "oj07ZA7xwkF8",
        "outputId": "4ea6bde3-ef21-4840-f7c5-dd3d3c72106a"
      },
      "source": [
        "salario_std = df.salario.std()\n",
        "salario_std"
      ],
      "execution_count": 215,
      "outputs": [
        {
          "output_type": "execute_result",
          "data": {
            "text/plain": [
              "528985400.6350281"
            ]
          },
          "metadata": {
            "tags": []
          },
          "execution_count": 215
        }
      ]
    },
    {
      "cell_type": "code",
      "metadata": {
        "colab": {
          "base_uri": "https://localhost:8080/",
          "height": 166
        },
        "id": "I8-Vc8px0AKJ",
        "outputId": "440106d8-f840-4440-fbf2-1a752c78afb2"
      },
      "source": [
        "## Verificando se existe salario 2 vezes maior que o desvio padrão\n",
        "\n",
        "df.loc[df.salario >= salario_std * 2]"
      ],
      "execution_count": 216,
      "outputs": [
        {
          "output_type": "execute_result",
          "data": {
            "text/html": [
              "<div>\n",
              "<style scoped>\n",
              "    .dataframe tbody tr th:only-of-type {\n",
              "        vertical-align: middle;\n",
              "    }\n",
              "\n",
              "    .dataframe tbody tr th {\n",
              "        vertical-align: top;\n",
              "    }\n",
              "\n",
              "    .dataframe thead th {\n",
              "        text-align: right;\n",
              "    }\n",
              "</style>\n",
              "<table border=\"1\" class=\"dataframe\">\n",
              "  <thead>\n",
              "    <tr style=\"text-align: right;\">\n",
              "      <th></th>\n",
              "      <th>id</th>\n",
              "      <th>score</th>\n",
              "      <th>estado</th>\n",
              "      <th>genero</th>\n",
              "      <th>idade</th>\n",
              "      <th>patrimonio</th>\n",
              "      <th>saldo</th>\n",
              "      <th>produtos</th>\n",
              "      <th>cartao-credito</th>\n",
              "      <th>ativo</th>\n",
              "      <th>salario</th>\n",
              "      <th>saiu</th>\n",
              "    </tr>\n",
              "  </thead>\n",
              "  <tbody>\n",
              "    <tr>\n",
              "      <th>7</th>\n",
              "      <td>8</td>\n",
              "      <td>376</td>\n",
              "      <td>PR</td>\n",
              "      <td>Feminino</td>\n",
              "      <td>29</td>\n",
              "      <td>4</td>\n",
              "      <td>11504674</td>\n",
              "      <td>4</td>\n",
              "      <td>True</td>\n",
              "      <td>False</td>\n",
              "      <td>1.193469e+10</td>\n",
              "      <td>True</td>\n",
              "    </tr>\n",
              "    <tr>\n",
              "      <th>116</th>\n",
              "      <td>118</td>\n",
              "      <td>668</td>\n",
              "      <td>PR</td>\n",
              "      <td>Feminino</td>\n",
              "      <td>37</td>\n",
              "      <td>6</td>\n",
              "      <td>1678644</td>\n",
              "      <td>1</td>\n",
              "      <td>True</td>\n",
              "      <td>False</td>\n",
              "      <td>1.156383e+10</td>\n",
              "      <td>False</td>\n",
              "    </tr>\n",
              "    <tr>\n",
              "      <th>170</th>\n",
              "      <td>172</td>\n",
              "      <td>484</td>\n",
              "      <td>RS</td>\n",
              "      <td>Feminino</td>\n",
              "      <td>29</td>\n",
              "      <td>4</td>\n",
              "      <td>13011439</td>\n",
              "      <td>1</td>\n",
              "      <td>True</td>\n",
              "      <td>False</td>\n",
              "      <td>1.640179e+09</td>\n",
              "      <td>False</td>\n",
              "    </tr>\n",
              "    <tr>\n",
              "      <th>230</th>\n",
              "      <td>232</td>\n",
              "      <td>673</td>\n",
              "      <td>RS</td>\n",
              "      <td>Masculino</td>\n",
              "      <td>72</td>\n",
              "      <td>1</td>\n",
              "      <td>0</td>\n",
              "      <td>2</td>\n",
              "      <td>False</td>\n",
              "      <td>True</td>\n",
              "      <td>1.119812e+09</td>\n",
              "      <td>False</td>\n",
              "    </tr>\n",
              "  </tbody>\n",
              "</table>\n",
              "</div>"
            ],
            "text/plain": [
              "      id  score estado     genero  ...  cartao-credito  ativo       salario   saiu\n",
              "7      8    376     PR   Feminino  ...            True  False  1.193469e+10   True\n",
              "116  118    668     PR   Feminino  ...            True  False  1.156383e+10  False\n",
              "170  172    484     RS   Feminino  ...            True  False  1.640179e+09  False\n",
              "230  232    673     RS  Masculino  ...           False   True  1.119812e+09  False\n",
              "\n",
              "[4 rows x 12 columns]"
            ]
          },
          "metadata": {
            "tags": []
          },
          "execution_count": 216
        }
      ]
    },
    {
      "cell_type": "code",
      "metadata": {
        "id": "XcsHTnNF0SnA"
      },
      "source": [
        "## Substituindo os valres de outliers pelo valor da mediana\n",
        "\n",
        "salario_median = df.salario.median()\n",
        "df.loc[df.salario >= salario_std * 2, \"salario\"] = salario_median"
      ],
      "execution_count": 218,
      "outputs": []
    },
    {
      "cell_type": "code",
      "metadata": {
        "colab": {
          "base_uri": "https://localhost:8080/",
          "height": 47
        },
        "id": "P68Xm8I-0paI",
        "outputId": "a8c9a737-1b46-466e-9ecc-0440c3ddb100"
      },
      "source": [
        "df.loc[df.salario >= salario_std * 2]"
      ],
      "execution_count": 219,
      "outputs": [
        {
          "output_type": "execute_result",
          "data": {
            "text/html": [
              "<div>\n",
              "<style scoped>\n",
              "    .dataframe tbody tr th:only-of-type {\n",
              "        vertical-align: middle;\n",
              "    }\n",
              "\n",
              "    .dataframe tbody tr th {\n",
              "        vertical-align: top;\n",
              "    }\n",
              "\n",
              "    .dataframe thead th {\n",
              "        text-align: right;\n",
              "    }\n",
              "</style>\n",
              "<table border=\"1\" class=\"dataframe\">\n",
              "  <thead>\n",
              "    <tr style=\"text-align: right;\">\n",
              "      <th></th>\n",
              "      <th>id</th>\n",
              "      <th>score</th>\n",
              "      <th>estado</th>\n",
              "      <th>genero</th>\n",
              "      <th>idade</th>\n",
              "      <th>patrimonio</th>\n",
              "      <th>saldo</th>\n",
              "      <th>produtos</th>\n",
              "      <th>cartao-credito</th>\n",
              "      <th>ativo</th>\n",
              "      <th>salario</th>\n",
              "      <th>saiu</th>\n",
              "    </tr>\n",
              "  </thead>\n",
              "  <tbody>\n",
              "  </tbody>\n",
              "</table>\n",
              "</div>"
            ],
            "text/plain": [
              "Empty DataFrame\n",
              "Columns: [id, score, estado, genero, idade, patrimonio, saldo, produtos, cartao-credito, ativo, salario, saiu]\n",
              "Index: []"
            ]
          },
          "metadata": {
            "tags": []
          },
          "execution_count": 219
        }
      ]
    },
    {
      "cell_type": "code",
      "metadata": {
        "id": "7vTLVvHR03zZ"
      },
      "source": [
        ""
      ],
      "execution_count": null,
      "outputs": []
    }
  ]
}